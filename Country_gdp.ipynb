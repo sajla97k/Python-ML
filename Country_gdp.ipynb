{
  "cells": [
    {
      "cell_type": "markdown",
      "metadata": {
        "id": "view-in-github",
        "colab_type": "text"
      },
      "source": [
        "<a href=\"https://colab.research.google.com/github/sajla97k/Python-ML/blob/main/Country_gdp.ipynb\" target=\"_parent\"><img src=\"https://colab.research.google.com/assets/colab-badge.svg\" alt=\"Open In Colab\"/></a>"
      ]
    },
    {
      "cell_type": "markdown",
      "source": [
        "# Country_GDP"
      ],
      "metadata": {
        "id": "ldRXepk4O7HK"
      }
    },
    {
      "cell_type": "markdown",
      "source": [
        "This dataset is about the all Countries with their GDP from IMF and UN, population and GDP per capita."
      ],
      "metadata": {
        "id": "rG77BHq7Outw"
      }
    },
    {
      "cell_type": "markdown",
      "source": [
        "![WhatsApp Image 2023-06-08 at 12.33.01 PM.jpeg](data:image/jpeg;base64,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)"
      ],
      "metadata": {
        "id": "a6bwQ1X81Vn_"
      }
    },
    {
      "cell_type": "markdown",
      "source": [
        "# Column information\n",
        "\n",
        "1.   Rank - The rank of each country's\n",
        "2.   ID  - id of each country's\n",
        "3.   Continent - In wich continents each country's exist\n",
        "4.   Population -population of each country\n",
        "5.   IMF GDP -IMF GDP of country's\n",
        "6.  UN GDP -UN GDP of country's\n",
        "7.GDP per capita -Gdp per capita of each country's\n",
        "\n",
        "\n",
        "\n"
      ],
      "metadata": {
        "id": "rpALg8EBPg3j"
      }
    },
    {
      "cell_type": "code",
      "execution_count": null,
      "metadata": {
        "id": "81xFfdljqqje"
      },
      "outputs": [],
      "source": [
        "# importing necessary libraries\n",
        "import pandas as pd\n",
        "import numpy as np\n",
        "import seaborn as sns\n",
        "import matplotlib.pyplot as plt"
      ]
    },
    {
      "cell_type": "code",
      "execution_count": null,
      "metadata": {
        "colab": {
          "base_uri": "https://localhost:8080/",
          "height": 287
        },
        "id": "_49Feht2q48M",
        "outputId": "cdf33407-cfc7-4ca5-b345-18f6f47abffe"
      },
      "outputs": [
        {
          "output_type": "execute_result",
          "data": {
            "text/plain": [
              "   Rank   ID        Country      Continent  Population       IMF_GDP  \\\n",
              "0     1  840  United States  North America   339996.56  2.669515e+13   \n",
              "1     2  156          China           Asia  1425671.35  2.186548e+13   \n",
              "2     3  392          Japan           Asia   123294.51  5.291351e+12   \n",
              "3     4  276        Germany         Europe    83294.63  4.564778e+12   \n",
              "4     5  356          India           Asia  1428627.66  3.893670e+12   \n",
              "\n",
              "         UN_GDP  GDP_per_capita  \n",
              "0  1.862448e+13        78515.94  \n",
              "1  1.121828e+13        15336.97  \n",
              "2  4.936212e+12        42916.35  \n",
              "3  3.477796e+12        54802.79  \n",
              "4  2.259642e+12         2725.46  "
            ],
            "text/html": [
              "\n",
              "  <div id=\"df-b97c1319-e5d1-4aea-abec-3880d6545baa\">\n",
              "    <div class=\"colab-df-container\">\n",
              "      <div>\n",
              "<style scoped>\n",
              "    .dataframe tbody tr th:only-of-type {\n",
              "        vertical-align: middle;\n",
              "    }\n",
              "\n",
              "    .dataframe tbody tr th {\n",
              "        vertical-align: top;\n",
              "    }\n",
              "\n",
              "    .dataframe thead th {\n",
              "        text-align: right;\n",
              "    }\n",
              "</style>\n",
              "<table border=\"1\" class=\"dataframe\">\n",
              "  <thead>\n",
              "    <tr style=\"text-align: right;\">\n",
              "      <th></th>\n",
              "      <th>Rank</th>\n",
              "      <th>ID</th>\n",
              "      <th>Country</th>\n",
              "      <th>Continent</th>\n",
              "      <th>Population</th>\n",
              "      <th>IMF_GDP</th>\n",
              "      <th>UN_GDP</th>\n",
              "      <th>GDP_per_capita</th>\n",
              "    </tr>\n",
              "  </thead>\n",
              "  <tbody>\n",
              "    <tr>\n",
              "      <th>0</th>\n",
              "      <td>1</td>\n",
              "      <td>840</td>\n",
              "      <td>United States</td>\n",
              "      <td>North America</td>\n",
              "      <td>339996.56</td>\n",
              "      <td>2.669515e+13</td>\n",
              "      <td>1.862448e+13</td>\n",
              "      <td>78515.94</td>\n",
              "    </tr>\n",
              "    <tr>\n",
              "      <th>1</th>\n",
              "      <td>2</td>\n",
              "      <td>156</td>\n",
              "      <td>China</td>\n",
              "      <td>Asia</td>\n",
              "      <td>1425671.35</td>\n",
              "      <td>2.186548e+13</td>\n",
              "      <td>1.121828e+13</td>\n",
              "      <td>15336.97</td>\n",
              "    </tr>\n",
              "    <tr>\n",
              "      <th>2</th>\n",
              "      <td>3</td>\n",
              "      <td>392</td>\n",
              "      <td>Japan</td>\n",
              "      <td>Asia</td>\n",
              "      <td>123294.51</td>\n",
              "      <td>5.291351e+12</td>\n",
              "      <td>4.936212e+12</td>\n",
              "      <td>42916.35</td>\n",
              "    </tr>\n",
              "    <tr>\n",
              "      <th>3</th>\n",
              "      <td>4</td>\n",
              "      <td>276</td>\n",
              "      <td>Germany</td>\n",
              "      <td>Europe</td>\n",
              "      <td>83294.63</td>\n",
              "      <td>4.564778e+12</td>\n",
              "      <td>3.477796e+12</td>\n",
              "      <td>54802.79</td>\n",
              "    </tr>\n",
              "    <tr>\n",
              "      <th>4</th>\n",
              "      <td>5</td>\n",
              "      <td>356</td>\n",
              "      <td>India</td>\n",
              "      <td>Asia</td>\n",
              "      <td>1428627.66</td>\n",
              "      <td>3.893670e+12</td>\n",
              "      <td>2.259642e+12</td>\n",
              "      <td>2725.46</td>\n",
              "    </tr>\n",
              "  </tbody>\n",
              "</table>\n",
              "</div>\n",
              "      <button class=\"colab-df-convert\" onclick=\"convertToInteractive('df-b97c1319-e5d1-4aea-abec-3880d6545baa')\"\n",
              "              title=\"Convert this dataframe to an interactive table.\"\n",
              "              style=\"display:none;\">\n",
              "        \n",
              "  <svg xmlns=\"http://www.w3.org/2000/svg\" height=\"24px\"viewBox=\"0 0 24 24\"\n",
              "       width=\"24px\">\n",
              "    <path d=\"M0 0h24v24H0V0z\" fill=\"none\"/>\n",
              "    <path d=\"M18.56 5.44l.94 2.06.94-2.06 2.06-.94-2.06-.94-.94-2.06-.94 2.06-2.06.94zm-11 1L8.5 8.5l.94-2.06 2.06-.94-2.06-.94L8.5 2.5l-.94 2.06-2.06.94zm10 10l.94 2.06.94-2.06 2.06-.94-2.06-.94-.94-2.06-.94 2.06-2.06.94z\"/><path d=\"M17.41 7.96l-1.37-1.37c-.4-.4-.92-.59-1.43-.59-.52 0-1.04.2-1.43.59L10.3 9.45l-7.72 7.72c-.78.78-.78 2.05 0 2.83L4 21.41c.39.39.9.59 1.41.59.51 0 1.02-.2 1.41-.59l7.78-7.78 2.81-2.81c.8-.78.8-2.07 0-2.86zM5.41 20L4 18.59l7.72-7.72 1.47 1.35L5.41 20z\"/>\n",
              "  </svg>\n",
              "      </button>\n",
              "      \n",
              "  <style>\n",
              "    .colab-df-container {\n",
              "      display:flex;\n",
              "      flex-wrap:wrap;\n",
              "      gap: 12px;\n",
              "    }\n",
              "\n",
              "    .colab-df-convert {\n",
              "      background-color: #E8F0FE;\n",
              "      border: none;\n",
              "      border-radius: 50%;\n",
              "      cursor: pointer;\n",
              "      display: none;\n",
              "      fill: #1967D2;\n",
              "      height: 32px;\n",
              "      padding: 0 0 0 0;\n",
              "      width: 32px;\n",
              "    }\n",
              "\n",
              "    .colab-df-convert:hover {\n",
              "      background-color: #E2EBFA;\n",
              "      box-shadow: 0px 1px 2px rgba(60, 64, 67, 0.3), 0px 1px 3px 1px rgba(60, 64, 67, 0.15);\n",
              "      fill: #174EA6;\n",
              "    }\n",
              "\n",
              "    [theme=dark] .colab-df-convert {\n",
              "      background-color: #3B4455;\n",
              "      fill: #D2E3FC;\n",
              "    }\n",
              "\n",
              "    [theme=dark] .colab-df-convert:hover {\n",
              "      background-color: #434B5C;\n",
              "      box-shadow: 0px 1px 3px 1px rgba(0, 0, 0, 0.15);\n",
              "      filter: drop-shadow(0px 1px 2px rgba(0, 0, 0, 0.3));\n",
              "      fill: #FFFFFF;\n",
              "    }\n",
              "  </style>\n",
              "\n",
              "      <script>\n",
              "        const buttonEl =\n",
              "          document.querySelector('#df-b97c1319-e5d1-4aea-abec-3880d6545baa button.colab-df-convert');\n",
              "        buttonEl.style.display =\n",
              "          google.colab.kernel.accessAllowed ? 'block' : 'none';\n",
              "\n",
              "        async function convertToInteractive(key) {\n",
              "          const element = document.querySelector('#df-b97c1319-e5d1-4aea-abec-3880d6545baa');\n",
              "          const dataTable =\n",
              "            await google.colab.kernel.invokeFunction('convertToInteractive',\n",
              "                                                     [key], {});\n",
              "          if (!dataTable) return;\n",
              "\n",
              "          const docLinkHtml = 'Like what you see? Visit the ' +\n",
              "            '<a target=\"_blank\" href=https://colab.research.google.com/notebooks/data_table.ipynb>data table notebook</a>'\n",
              "            + ' to learn more about interactive tables.';\n",
              "          element.innerHTML = '';\n",
              "          dataTable['output_type'] = 'display_data';\n",
              "          await google.colab.output.renderOutput(dataTable, element);\n",
              "          const docLink = document.createElement('div');\n",
              "          docLink.innerHTML = docLinkHtml;\n",
              "          element.appendChild(docLink);\n",
              "        }\n",
              "      </script>\n",
              "    </div>\n",
              "  </div>\n",
              "  "
            ]
          },
          "metadata": {},
          "execution_count": 58
        }
      ],
      "source": [
        "#reading the data set\n",
        "d=pd.read_csv('/content/drive/MyDrive/PROJECT ML/archive (7).zip')\n",
        "d.head()"
      ]
    },
    {
      "cell_type": "code",
      "source": [
        "#shape of the data set\n",
        "d.shape"
      ],
      "metadata": {
        "colab": {
          "base_uri": "https://localhost:8080/"
        },
        "id": "2wT1z94lAmqu",
        "outputId": "654e8fca-9266-45d0-89b4-13af70f4603a"
      },
      "execution_count": null,
      "outputs": [
        {
          "output_type": "execute_result",
          "data": {
            "text/plain": [
              "(212, 8)"
            ]
          },
          "metadata": {},
          "execution_count": 59
        }
      ]
    },
    {
      "cell_type": "code",
      "source": [
        "d.info"
      ],
      "metadata": {
        "colab": {
          "base_uri": "https://localhost:8080/"
        },
        "id": "QvIv-tAaAujj",
        "outputId": "50db730e-cafb-42ed-eaa1-c6b479ea39aa"
      },
      "execution_count": null,
      "outputs": [
        {
          "output_type": "execute_result",
          "data": {
            "text/plain": [
              "<bound method DataFrame.info of      Rank   ID                   Country      Continent  Population  \\\n",
              "0       1  840             United States  North America   339996.56   \n",
              "1       2  156                     China           Asia  1425671.35   \n",
              "2       3  392                     Japan           Asia   123294.51   \n",
              "3       4  276                   Germany         Europe    83294.63   \n",
              "4       5  356                     India           Asia  1428627.66   \n",
              "..    ...  ...                       ...            ...         ...   \n",
              "207   208  729                     Sudan         Africa    48109.01   \n",
              "208   209  760                     Syria           Asia    23227.01   \n",
              "209   210  788                   Tunisia         Africa    12458.22   \n",
              "210   211  796  Turks and Caicos Islands  North America       46.06   \n",
              "211   212  804                   Ukraine         Europe    36744.63   \n",
              "\n",
              "          IMF_GDP        UN_GDP  GDP_per_capita  \n",
              "0    2.669515e+13  1.862448e+13        78515.94  \n",
              "1    2.186548e+13  1.121828e+13        15336.97  \n",
              "2    5.291351e+12  4.936212e+12        42916.35  \n",
              "3    4.564778e+12  3.477796e+12        54802.79  \n",
              "4    3.893670e+12  2.259642e+12         2725.46  \n",
              "..            ...           ...             ...  \n",
              "207  0.000000e+00  8.288740e+10         1722.91  \n",
              "208  0.000000e+00  2.216308e+10          954.19  \n",
              "209  0.000000e+00  4.170356e+10         3347.47  \n",
              "210  0.000000e+00  9.175505e+08        19919.90  \n",
              "211  0.000000e+00  9.327035e+10         2538.34  \n",
              "\n",
              "[212 rows x 8 columns]>"
            ]
          },
          "metadata": {},
          "execution_count": 60
        }
      ]
    },
    {
      "cell_type": "code",
      "source": [
        "#checking for null values\n",
        "d.isna().any()\n"
      ],
      "metadata": {
        "colab": {
          "base_uri": "https://localhost:8080/"
        },
        "id": "PVlOTRZJA_OA",
        "outputId": "fa82e8d6-6886-4e08-f72f-d64389e9f437"
      },
      "execution_count": null,
      "outputs": [
        {
          "output_type": "execute_result",
          "data": {
            "text/plain": [
              "Rank              False\n",
              "ID                False\n",
              "Country           False\n",
              "Continent         False\n",
              "Population        False\n",
              "IMF_GDP           False\n",
              "UN_GDP            False\n",
              "GDP_per_capita    False\n",
              "dtype: bool"
            ]
          },
          "metadata": {},
          "execution_count": 61
        }
      ]
    },
    {
      "cell_type": "code",
      "source": [
        "# checking for duplicate values ,and delete if present\n",
        "d.drop_duplicates()\n",
        "d.head(5)"
      ],
      "metadata": {
        "colab": {
          "base_uri": "https://localhost:8080/",
          "height": 287
        },
        "id": "4elxPfFNBRE6",
        "outputId": "d6e7ba30-28c7-42c8-f505-bb750b64594d"
      },
      "execution_count": null,
      "outputs": [
        {
          "output_type": "execute_result",
          "data": {
            "text/plain": [
              "   Rank   ID        Country      Continent  Population       IMF_GDP  \\\n",
              "0     1  840  United States  North America   339996.56  2.669515e+13   \n",
              "1     2  156          China           Asia  1425671.35  2.186548e+13   \n",
              "2     3  392          Japan           Asia   123294.51  5.291351e+12   \n",
              "3     4  276        Germany         Europe    83294.63  4.564778e+12   \n",
              "4     5  356          India           Asia  1428627.66  3.893670e+12   \n",
              "\n",
              "         UN_GDP  GDP_per_capita  \n",
              "0  1.862448e+13        78515.94  \n",
              "1  1.121828e+13        15336.97  \n",
              "2  4.936212e+12        42916.35  \n",
              "3  3.477796e+12        54802.79  \n",
              "4  2.259642e+12         2725.46  "
            ],
            "text/html": [
              "\n",
              "  <div id=\"df-5ad436bb-46d2-40d1-ad76-5884c9fb11cd\">\n",
              "    <div class=\"colab-df-container\">\n",
              "      <div>\n",
              "<style scoped>\n",
              "    .dataframe tbody tr th:only-of-type {\n",
              "        vertical-align: middle;\n",
              "    }\n",
              "\n",
              "    .dataframe tbody tr th {\n",
              "        vertical-align: top;\n",
              "    }\n",
              "\n",
              "    .dataframe thead th {\n",
              "        text-align: right;\n",
              "    }\n",
              "</style>\n",
              "<table border=\"1\" class=\"dataframe\">\n",
              "  <thead>\n",
              "    <tr style=\"text-align: right;\">\n",
              "      <th></th>\n",
              "      <th>Rank</th>\n",
              "      <th>ID</th>\n",
              "      <th>Country</th>\n",
              "      <th>Continent</th>\n",
              "      <th>Population</th>\n",
              "      <th>IMF_GDP</th>\n",
              "      <th>UN_GDP</th>\n",
              "      <th>GDP_per_capita</th>\n",
              "    </tr>\n",
              "  </thead>\n",
              "  <tbody>\n",
              "    <tr>\n",
              "      <th>0</th>\n",
              "      <td>1</td>\n",
              "      <td>840</td>\n",
              "      <td>United States</td>\n",
              "      <td>North America</td>\n",
              "      <td>339996.56</td>\n",
              "      <td>2.669515e+13</td>\n",
              "      <td>1.862448e+13</td>\n",
              "      <td>78515.94</td>\n",
              "    </tr>\n",
              "    <tr>\n",
              "      <th>1</th>\n",
              "      <td>2</td>\n",
              "      <td>156</td>\n",
              "      <td>China</td>\n",
              "      <td>Asia</td>\n",
              "      <td>1425671.35</td>\n",
              "      <td>2.186548e+13</td>\n",
              "      <td>1.121828e+13</td>\n",
              "      <td>15336.97</td>\n",
              "    </tr>\n",
              "    <tr>\n",
              "      <th>2</th>\n",
              "      <td>3</td>\n",
              "      <td>392</td>\n",
              "      <td>Japan</td>\n",
              "      <td>Asia</td>\n",
              "      <td>123294.51</td>\n",
              "      <td>5.291351e+12</td>\n",
              "      <td>4.936212e+12</td>\n",
              "      <td>42916.35</td>\n",
              "    </tr>\n",
              "    <tr>\n",
              "      <th>3</th>\n",
              "      <td>4</td>\n",
              "      <td>276</td>\n",
              "      <td>Germany</td>\n",
              "      <td>Europe</td>\n",
              "      <td>83294.63</td>\n",
              "      <td>4.564778e+12</td>\n",
              "      <td>3.477796e+12</td>\n",
              "      <td>54802.79</td>\n",
              "    </tr>\n",
              "    <tr>\n",
              "      <th>4</th>\n",
              "      <td>5</td>\n",
              "      <td>356</td>\n",
              "      <td>India</td>\n",
              "      <td>Asia</td>\n",
              "      <td>1428627.66</td>\n",
              "      <td>3.893670e+12</td>\n",
              "      <td>2.259642e+12</td>\n",
              "      <td>2725.46</td>\n",
              "    </tr>\n",
              "  </tbody>\n",
              "</table>\n",
              "</div>\n",
              "      <button class=\"colab-df-convert\" onclick=\"convertToInteractive('df-5ad436bb-46d2-40d1-ad76-5884c9fb11cd')\"\n",
              "              title=\"Convert this dataframe to an interactive table.\"\n",
              "              style=\"display:none;\">\n",
              "        \n",
              "  <svg xmlns=\"http://www.w3.org/2000/svg\" height=\"24px\"viewBox=\"0 0 24 24\"\n",
              "       width=\"24px\">\n",
              "    <path d=\"M0 0h24v24H0V0z\" fill=\"none\"/>\n",
              "    <path d=\"M18.56 5.44l.94 2.06.94-2.06 2.06-.94-2.06-.94-.94-2.06-.94 2.06-2.06.94zm-11 1L8.5 8.5l.94-2.06 2.06-.94-2.06-.94L8.5 2.5l-.94 2.06-2.06.94zm10 10l.94 2.06.94-2.06 2.06-.94-2.06-.94-.94-2.06-.94 2.06-2.06.94z\"/><path d=\"M17.41 7.96l-1.37-1.37c-.4-.4-.92-.59-1.43-.59-.52 0-1.04.2-1.43.59L10.3 9.45l-7.72 7.72c-.78.78-.78 2.05 0 2.83L4 21.41c.39.39.9.59 1.41.59.51 0 1.02-.2 1.41-.59l7.78-7.78 2.81-2.81c.8-.78.8-2.07 0-2.86zM5.41 20L4 18.59l7.72-7.72 1.47 1.35L5.41 20z\"/>\n",
              "  </svg>\n",
              "      </button>\n",
              "      \n",
              "  <style>\n",
              "    .colab-df-container {\n",
              "      display:flex;\n",
              "      flex-wrap:wrap;\n",
              "      gap: 12px;\n",
              "    }\n",
              "\n",
              "    .colab-df-convert {\n",
              "      background-color: #E8F0FE;\n",
              "      border: none;\n",
              "      border-radius: 50%;\n",
              "      cursor: pointer;\n",
              "      display: none;\n",
              "      fill: #1967D2;\n",
              "      height: 32px;\n",
              "      padding: 0 0 0 0;\n",
              "      width: 32px;\n",
              "    }\n",
              "\n",
              "    .colab-df-convert:hover {\n",
              "      background-color: #E2EBFA;\n",
              "      box-shadow: 0px 1px 2px rgba(60, 64, 67, 0.3), 0px 1px 3px 1px rgba(60, 64, 67, 0.15);\n",
              "      fill: #174EA6;\n",
              "    }\n",
              "\n",
              "    [theme=dark] .colab-df-convert {\n",
              "      background-color: #3B4455;\n",
              "      fill: #D2E3FC;\n",
              "    }\n",
              "\n",
              "    [theme=dark] .colab-df-convert:hover {\n",
              "      background-color: #434B5C;\n",
              "      box-shadow: 0px 1px 3px 1px rgba(0, 0, 0, 0.15);\n",
              "      filter: drop-shadow(0px 1px 2px rgba(0, 0, 0, 0.3));\n",
              "      fill: #FFFFFF;\n",
              "    }\n",
              "  </style>\n",
              "\n",
              "      <script>\n",
              "        const buttonEl =\n",
              "          document.querySelector('#df-5ad436bb-46d2-40d1-ad76-5884c9fb11cd button.colab-df-convert');\n",
              "        buttonEl.style.display =\n",
              "          google.colab.kernel.accessAllowed ? 'block' : 'none';\n",
              "\n",
              "        async function convertToInteractive(key) {\n",
              "          const element = document.querySelector('#df-5ad436bb-46d2-40d1-ad76-5884c9fb11cd');\n",
              "          const dataTable =\n",
              "            await google.colab.kernel.invokeFunction('convertToInteractive',\n",
              "                                                     [key], {});\n",
              "          if (!dataTable) return;\n",
              "\n",
              "          const docLinkHtml = 'Like what you see? Visit the ' +\n",
              "            '<a target=\"_blank\" href=https://colab.research.google.com/notebooks/data_table.ipynb>data table notebook</a>'\n",
              "            + ' to learn more about interactive tables.';\n",
              "          element.innerHTML = '';\n",
              "          dataTable['output_type'] = 'display_data';\n",
              "          await google.colab.output.renderOutput(dataTable, element);\n",
              "          const docLink = document.createElement('div');\n",
              "          docLink.innerHTML = docLinkHtml;\n",
              "          element.appendChild(docLink);\n",
              "        }\n",
              "      </script>\n",
              "    </div>\n",
              "  </div>\n",
              "  "
            ]
          },
          "metadata": {},
          "execution_count": 62
        }
      ]
    },
    {
      "cell_type": "code",
      "source": [
        "#deleating unwanted columns\n",
        "del d['Rank']\n",
        "d.head(3)"
      ],
      "metadata": {
        "colab": {
          "base_uri": "https://localhost:8080/",
          "height": 205
        },
        "id": "qE9vxpwPBmzP",
        "outputId": "cc05b0d5-4938-4067-a49d-90e67bad2fc5"
      },
      "execution_count": null,
      "outputs": [
        {
          "output_type": "execute_result",
          "data": {
            "text/plain": [
              "    ID        Country      Continent  Population       IMF_GDP        UN_GDP  \\\n",
              "0  840  United States  North America   339996.56  2.669515e+13  1.862448e+13   \n",
              "1  156          China           Asia  1425671.35  2.186548e+13  1.121828e+13   \n",
              "2  392          Japan           Asia   123294.51  5.291351e+12  4.936212e+12   \n",
              "\n",
              "   GDP_per_capita  \n",
              "0        78515.94  \n",
              "1        15336.97  \n",
              "2        42916.35  "
            ],
            "text/html": [
              "\n",
              "  <div id=\"df-13a41966-1a4a-436e-a47e-0fb042657b89\">\n",
              "    <div class=\"colab-df-container\">\n",
              "      <div>\n",
              "<style scoped>\n",
              "    .dataframe tbody tr th:only-of-type {\n",
              "        vertical-align: middle;\n",
              "    }\n",
              "\n",
              "    .dataframe tbody tr th {\n",
              "        vertical-align: top;\n",
              "    }\n",
              "\n",
              "    .dataframe thead th {\n",
              "        text-align: right;\n",
              "    }\n",
              "</style>\n",
              "<table border=\"1\" class=\"dataframe\">\n",
              "  <thead>\n",
              "    <tr style=\"text-align: right;\">\n",
              "      <th></th>\n",
              "      <th>ID</th>\n",
              "      <th>Country</th>\n",
              "      <th>Continent</th>\n",
              "      <th>Population</th>\n",
              "      <th>IMF_GDP</th>\n",
              "      <th>UN_GDP</th>\n",
              "      <th>GDP_per_capita</th>\n",
              "    </tr>\n",
              "  </thead>\n",
              "  <tbody>\n",
              "    <tr>\n",
              "      <th>0</th>\n",
              "      <td>840</td>\n",
              "      <td>United States</td>\n",
              "      <td>North America</td>\n",
              "      <td>339996.56</td>\n",
              "      <td>2.669515e+13</td>\n",
              "      <td>1.862448e+13</td>\n",
              "      <td>78515.94</td>\n",
              "    </tr>\n",
              "    <tr>\n",
              "      <th>1</th>\n",
              "      <td>156</td>\n",
              "      <td>China</td>\n",
              "      <td>Asia</td>\n",
              "      <td>1425671.35</td>\n",
              "      <td>2.186548e+13</td>\n",
              "      <td>1.121828e+13</td>\n",
              "      <td>15336.97</td>\n",
              "    </tr>\n",
              "    <tr>\n",
              "      <th>2</th>\n",
              "      <td>392</td>\n",
              "      <td>Japan</td>\n",
              "      <td>Asia</td>\n",
              "      <td>123294.51</td>\n",
              "      <td>5.291351e+12</td>\n",
              "      <td>4.936212e+12</td>\n",
              "      <td>42916.35</td>\n",
              "    </tr>\n",
              "  </tbody>\n",
              "</table>\n",
              "</div>\n",
              "      <button class=\"colab-df-convert\" onclick=\"convertToInteractive('df-13a41966-1a4a-436e-a47e-0fb042657b89')\"\n",
              "              title=\"Convert this dataframe to an interactive table.\"\n",
              "              style=\"display:none;\">\n",
              "        \n",
              "  <svg xmlns=\"http://www.w3.org/2000/svg\" height=\"24px\"viewBox=\"0 0 24 24\"\n",
              "       width=\"24px\">\n",
              "    <path d=\"M0 0h24v24H0V0z\" fill=\"none\"/>\n",
              "    <path d=\"M18.56 5.44l.94 2.06.94-2.06 2.06-.94-2.06-.94-.94-2.06-.94 2.06-2.06.94zm-11 1L8.5 8.5l.94-2.06 2.06-.94-2.06-.94L8.5 2.5l-.94 2.06-2.06.94zm10 10l.94 2.06.94-2.06 2.06-.94-2.06-.94-.94-2.06-.94 2.06-2.06.94z\"/><path d=\"M17.41 7.96l-1.37-1.37c-.4-.4-.92-.59-1.43-.59-.52 0-1.04.2-1.43.59L10.3 9.45l-7.72 7.72c-.78.78-.78 2.05 0 2.83L4 21.41c.39.39.9.59 1.41.59.51 0 1.02-.2 1.41-.59l7.78-7.78 2.81-2.81c.8-.78.8-2.07 0-2.86zM5.41 20L4 18.59l7.72-7.72 1.47 1.35L5.41 20z\"/>\n",
              "  </svg>\n",
              "      </button>\n",
              "      \n",
              "  <style>\n",
              "    .colab-df-container {\n",
              "      display:flex;\n",
              "      flex-wrap:wrap;\n",
              "      gap: 12px;\n",
              "    }\n",
              "\n",
              "    .colab-df-convert {\n",
              "      background-color: #E8F0FE;\n",
              "      border: none;\n",
              "      border-radius: 50%;\n",
              "      cursor: pointer;\n",
              "      display: none;\n",
              "      fill: #1967D2;\n",
              "      height: 32px;\n",
              "      padding: 0 0 0 0;\n",
              "      width: 32px;\n",
              "    }\n",
              "\n",
              "    .colab-df-convert:hover {\n",
              "      background-color: #E2EBFA;\n",
              "      box-shadow: 0px 1px 2px rgba(60, 64, 67, 0.3), 0px 1px 3px 1px rgba(60, 64, 67, 0.15);\n",
              "      fill: #174EA6;\n",
              "    }\n",
              "\n",
              "    [theme=dark] .colab-df-convert {\n",
              "      background-color: #3B4455;\n",
              "      fill: #D2E3FC;\n",
              "    }\n",
              "\n",
              "    [theme=dark] .colab-df-convert:hover {\n",
              "      background-color: #434B5C;\n",
              "      box-shadow: 0px 1px 3px 1px rgba(0, 0, 0, 0.15);\n",
              "      filter: drop-shadow(0px 1px 2px rgba(0, 0, 0, 0.3));\n",
              "      fill: #FFFFFF;\n",
              "    }\n",
              "  </style>\n",
              "\n",
              "      <script>\n",
              "        const buttonEl =\n",
              "          document.querySelector('#df-13a41966-1a4a-436e-a47e-0fb042657b89 button.colab-df-convert');\n",
              "        buttonEl.style.display =\n",
              "          google.colab.kernel.accessAllowed ? 'block' : 'none';\n",
              "\n",
              "        async function convertToInteractive(key) {\n",
              "          const element = document.querySelector('#df-13a41966-1a4a-436e-a47e-0fb042657b89');\n",
              "          const dataTable =\n",
              "            await google.colab.kernel.invokeFunction('convertToInteractive',\n",
              "                                                     [key], {});\n",
              "          if (!dataTable) return;\n",
              "\n",
              "          const docLinkHtml = 'Like what you see? Visit the ' +\n",
              "            '<a target=\"_blank\" href=https://colab.research.google.com/notebooks/data_table.ipynb>data table notebook</a>'\n",
              "            + ' to learn more about interactive tables.';\n",
              "          element.innerHTML = '';\n",
              "          dataTable['output_type'] = 'display_data';\n",
              "          await google.colab.output.renderOutput(dataTable, element);\n",
              "          const docLink = document.createElement('div');\n",
              "          docLink.innerHTML = docLinkHtml;\n",
              "          element.appendChild(docLink);\n",
              "        }\n",
              "      </script>\n",
              "    </div>\n",
              "  </div>\n",
              "  "
            ]
          },
          "metadata": {},
          "execution_count": 63
        }
      ]
    },
    {
      "cell_type": "code",
      "execution_count": null,
      "metadata": {
        "colab": {
          "base_uri": "https://localhost:8080/"
        },
        "id": "dMYiaJ7hrjQL",
        "outputId": "446e348a-dddc-41ba-d70b-ae40eed8dcd6"
      },
      "outputs": [
        {
          "output_type": "execute_result",
          "data": {
            "text/plain": [
              "ID                  int64\n",
              "Country            object\n",
              "Continent          object\n",
              "Population        float64\n",
              "IMF_GDP           float64\n",
              "UN_GDP              int64\n",
              "GDP_per_capita    float64\n",
              "dtype: object"
            ]
          },
          "metadata": {},
          "execution_count": 64
        }
      ],
      "source": [
        "#data type conversion,converting float data into int\n",
        "d['UN_GDP']=d['UN_GDP'].astype(int)\n",
        "d.dtypes"
      ]
    },
    {
      "cell_type": "code",
      "execution_count": null,
      "metadata": {
        "colab": {
          "base_uri": "https://localhost:8080/"
        },
        "id": "V6VLiYrCru5c",
        "outputId": "b6af0b89-c19d-4ed0-9109-4e9564f51963"
      },
      "outputs": [
        {
          "output_type": "execute_result",
          "data": {
            "text/plain": [
              "ID                  int64\n",
              "Country            object\n",
              "Continent          object\n",
              "Population        float64\n",
              "IMF_GDP             int64\n",
              "UN_GDP              int64\n",
              "GDP_per_capita    float64\n",
              "dtype: object"
            ]
          },
          "metadata": {},
          "execution_count": 65
        }
      ],
      "source": [
        "d['IMF_GDP']=d['IMF_GDP'].astype(int)\n",
        "d.dtypes"
      ]
    },
    {
      "cell_type": "code",
      "execution_count": null,
      "metadata": {
        "colab": {
          "base_uri": "https://localhost:8080/"
        },
        "id": "cZWM821_r4_Q",
        "outputId": "1b5d1a0d-e6c1-4ac8-9f4a-cc0358a5877e"
      },
      "outputs": [
        {
          "output_type": "execute_result",
          "data": {
            "text/plain": [
              "ID                  int64\n",
              "Country            object\n",
              "Continent          object\n",
              "Population          int64\n",
              "IMF_GDP             int64\n",
              "UN_GDP              int64\n",
              "GDP_per_capita    float64\n",
              "dtype: object"
            ]
          },
          "metadata": {},
          "execution_count": 66
        }
      ],
      "source": [
        "d['Population']=d['Population'].astype(int)\n",
        "d.dtypes"
      ]
    },
    {
      "cell_type": "code",
      "execution_count": null,
      "metadata": {
        "colab": {
          "base_uri": "https://localhost:8080/"
        },
        "id": "lewBB4YnsBbQ",
        "outputId": "6c178acf-62d9-42c2-9727-96fd87009d0f"
      },
      "outputs": [
        {
          "output_type": "execute_result",
          "data": {
            "text/plain": [
              "ID                 int64\n",
              "Country           object\n",
              "Continent         object\n",
              "Population         int64\n",
              "IMF_GDP            int64\n",
              "UN_GDP             int64\n",
              "GDP_per_capita     int64\n",
              "dtype: object"
            ]
          },
          "metadata": {},
          "execution_count": 67
        }
      ],
      "source": [
        "d['GDP_per_capita']=d['GDP_per_capita'].astype(int)\n",
        "d.dtypes"
      ]
    },
    {
      "cell_type": "code",
      "execution_count": null,
      "metadata": {
        "colab": {
          "base_uri": "https://localhost:8080/",
          "height": 193
        },
        "id": "KjlGX2swsJAg",
        "outputId": "13be0f31-b252-457a-a746-bf9006b1deb8"
      },
      "outputs": [
        {
          "output_type": "execute_result",
          "data": {
            "text/plain": [
              "    ID        Country      Continent  Population         IMF_GDP  \\\n",
              "0  840  United States  North America      339996  26695150000000   \n",
              "1  156          China           Asia     1425671  21865482000000   \n",
              "\n",
              "           UN_GDP  GDP_per_capita  \n",
              "0  18624475000000           78515  \n",
              "1  11218281029298           15336  "
            ],
            "text/html": [
              "\n",
              "  <div id=\"df-8615aab1-d933-43c0-81d0-75b01997ebe9\">\n",
              "    <div class=\"colab-df-container\">\n",
              "      <div>\n",
              "<style scoped>\n",
              "    .dataframe tbody tr th:only-of-type {\n",
              "        vertical-align: middle;\n",
              "    }\n",
              "\n",
              "    .dataframe tbody tr th {\n",
              "        vertical-align: top;\n",
              "    }\n",
              "\n",
              "    .dataframe thead th {\n",
              "        text-align: right;\n",
              "    }\n",
              "</style>\n",
              "<table border=\"1\" class=\"dataframe\">\n",
              "  <thead>\n",
              "    <tr style=\"text-align: right;\">\n",
              "      <th></th>\n",
              "      <th>ID</th>\n",
              "      <th>Country</th>\n",
              "      <th>Continent</th>\n",
              "      <th>Population</th>\n",
              "      <th>IMF_GDP</th>\n",
              "      <th>UN_GDP</th>\n",
              "      <th>GDP_per_capita</th>\n",
              "    </tr>\n",
              "  </thead>\n",
              "  <tbody>\n",
              "    <tr>\n",
              "      <th>0</th>\n",
              "      <td>840</td>\n",
              "      <td>United States</td>\n",
              "      <td>North America</td>\n",
              "      <td>339996</td>\n",
              "      <td>26695150000000</td>\n",
              "      <td>18624475000000</td>\n",
              "      <td>78515</td>\n",
              "    </tr>\n",
              "    <tr>\n",
              "      <th>1</th>\n",
              "      <td>156</td>\n",
              "      <td>China</td>\n",
              "      <td>Asia</td>\n",
              "      <td>1425671</td>\n",
              "      <td>21865482000000</td>\n",
              "      <td>11218281029298</td>\n",
              "      <td>15336</td>\n",
              "    </tr>\n",
              "  </tbody>\n",
              "</table>\n",
              "</div>\n",
              "      <button class=\"colab-df-convert\" onclick=\"convertToInteractive('df-8615aab1-d933-43c0-81d0-75b01997ebe9')\"\n",
              "              title=\"Convert this dataframe to an interactive table.\"\n",
              "              style=\"display:none;\">\n",
              "        \n",
              "  <svg xmlns=\"http://www.w3.org/2000/svg\" height=\"24px\"viewBox=\"0 0 24 24\"\n",
              "       width=\"24px\">\n",
              "    <path d=\"M0 0h24v24H0V0z\" fill=\"none\"/>\n",
              "    <path d=\"M18.56 5.44l.94 2.06.94-2.06 2.06-.94-2.06-.94-.94-2.06-.94 2.06-2.06.94zm-11 1L8.5 8.5l.94-2.06 2.06-.94-2.06-.94L8.5 2.5l-.94 2.06-2.06.94zm10 10l.94 2.06.94-2.06 2.06-.94-2.06-.94-.94-2.06-.94 2.06-2.06.94z\"/><path d=\"M17.41 7.96l-1.37-1.37c-.4-.4-.92-.59-1.43-.59-.52 0-1.04.2-1.43.59L10.3 9.45l-7.72 7.72c-.78.78-.78 2.05 0 2.83L4 21.41c.39.39.9.59 1.41.59.51 0 1.02-.2 1.41-.59l7.78-7.78 2.81-2.81c.8-.78.8-2.07 0-2.86zM5.41 20L4 18.59l7.72-7.72 1.47 1.35L5.41 20z\"/>\n",
              "  </svg>\n",
              "      </button>\n",
              "      \n",
              "  <style>\n",
              "    .colab-df-container {\n",
              "      display:flex;\n",
              "      flex-wrap:wrap;\n",
              "      gap: 12px;\n",
              "    }\n",
              "\n",
              "    .colab-df-convert {\n",
              "      background-color: #E8F0FE;\n",
              "      border: none;\n",
              "      border-radius: 50%;\n",
              "      cursor: pointer;\n",
              "      display: none;\n",
              "      fill: #1967D2;\n",
              "      height: 32px;\n",
              "      padding: 0 0 0 0;\n",
              "      width: 32px;\n",
              "    }\n",
              "\n",
              "    .colab-df-convert:hover {\n",
              "      background-color: #E2EBFA;\n",
              "      box-shadow: 0px 1px 2px rgba(60, 64, 67, 0.3), 0px 1px 3px 1px rgba(60, 64, 67, 0.15);\n",
              "      fill: #174EA6;\n",
              "    }\n",
              "\n",
              "    [theme=dark] .colab-df-convert {\n",
              "      background-color: #3B4455;\n",
              "      fill: #D2E3FC;\n",
              "    }\n",
              "\n",
              "    [theme=dark] .colab-df-convert:hover {\n",
              "      background-color: #434B5C;\n",
              "      box-shadow: 0px 1px 3px 1px rgba(0, 0, 0, 0.15);\n",
              "      filter: drop-shadow(0px 1px 2px rgba(0, 0, 0, 0.3));\n",
              "      fill: #FFFFFF;\n",
              "    }\n",
              "  </style>\n",
              "\n",
              "      <script>\n",
              "        const buttonEl =\n",
              "          document.querySelector('#df-8615aab1-d933-43c0-81d0-75b01997ebe9 button.colab-df-convert');\n",
              "        buttonEl.style.display =\n",
              "          google.colab.kernel.accessAllowed ? 'block' : 'none';\n",
              "\n",
              "        async function convertToInteractive(key) {\n",
              "          const element = document.querySelector('#df-8615aab1-d933-43c0-81d0-75b01997ebe9');\n",
              "          const dataTable =\n",
              "            await google.colab.kernel.invokeFunction('convertToInteractive',\n",
              "                                                     [key], {});\n",
              "          if (!dataTable) return;\n",
              "\n",
              "          const docLinkHtml = 'Like what you see? Visit the ' +\n",
              "            '<a target=\"_blank\" href=https://colab.research.google.com/notebooks/data_table.ipynb>data table notebook</a>'\n",
              "            + ' to learn more about interactive tables.';\n",
              "          element.innerHTML = '';\n",
              "          dataTable['output_type'] = 'display_data';\n",
              "          await google.colab.output.renderOutput(dataTable, element);\n",
              "          const docLink = document.createElement('div');\n",
              "          docLink.innerHTML = docLinkHtml;\n",
              "          element.appendChild(docLink);\n",
              "        }\n",
              "      </script>\n",
              "    </div>\n",
              "  </div>\n",
              "  "
            ]
          },
          "metadata": {},
          "execution_count": 68
        }
      ],
      "source": [
        "d.head(2)\n"
      ]
    },
    {
      "cell_type": "code",
      "source": [
        "#getting the statistical measure of the data set\n",
        "d.describe()"
      ],
      "metadata": {
        "colab": {
          "base_uri": "https://localhost:8080/",
          "height": 300
        },
        "id": "nRnAFrvWCwrt",
        "outputId": "d2c79932-e321-48b9-c747-dacf61fd3e21"
      },
      "execution_count": null,
      "outputs": [
        {
          "output_type": "execute_result",
          "data": {
            "text/plain": [
              "               ID    Population       IMF_GDP        UN_GDP  GDP_per_capita\n",
              "count  212.000000  2.120000e+02  2.120000e+02  2.120000e+02      212.000000\n",
              "mean   429.320755  3.793121e+04  5.213021e+11  3.541058e+11    19668.622642\n",
              "std    250.649887  1.439021e+05  2.448664e+12  1.576706e+12    28036.333577\n",
              "min      4.000000  4.000000e+00  0.000000e+00  0.000000e+00      278.000000\n",
              "25%    211.000000  1.247500e+03  2.880000e+09  4.638538e+09     2484.000000\n",
              "50%    429.000000  6.967000e+03  2.951600e+10  2.128999e+10     7481.000000\n",
              "75%    642.250000  2.756325e+04  2.265350e+11  1.592921e+11    23996.750000\n",
              "max    894.000000  1.428627e+06  2.669515e+13  1.862448e+13   178196.000000"
            ],
            "text/html": [
              "\n",
              "  <div id=\"df-62409038-4660-42be-b8d2-c83c0d9adce9\">\n",
              "    <div class=\"colab-df-container\">\n",
              "      <div>\n",
              "<style scoped>\n",
              "    .dataframe tbody tr th:only-of-type {\n",
              "        vertical-align: middle;\n",
              "    }\n",
              "\n",
              "    .dataframe tbody tr th {\n",
              "        vertical-align: top;\n",
              "    }\n",
              "\n",
              "    .dataframe thead th {\n",
              "        text-align: right;\n",
              "    }\n",
              "</style>\n",
              "<table border=\"1\" class=\"dataframe\">\n",
              "  <thead>\n",
              "    <tr style=\"text-align: right;\">\n",
              "      <th></th>\n",
              "      <th>ID</th>\n",
              "      <th>Population</th>\n",
              "      <th>IMF_GDP</th>\n",
              "      <th>UN_GDP</th>\n",
              "      <th>GDP_per_capita</th>\n",
              "    </tr>\n",
              "  </thead>\n",
              "  <tbody>\n",
              "    <tr>\n",
              "      <th>count</th>\n",
              "      <td>212.000000</td>\n",
              "      <td>2.120000e+02</td>\n",
              "      <td>2.120000e+02</td>\n",
              "      <td>2.120000e+02</td>\n",
              "      <td>212.000000</td>\n",
              "    </tr>\n",
              "    <tr>\n",
              "      <th>mean</th>\n",
              "      <td>429.320755</td>\n",
              "      <td>3.793121e+04</td>\n",
              "      <td>5.213021e+11</td>\n",
              "      <td>3.541058e+11</td>\n",
              "      <td>19668.622642</td>\n",
              "    </tr>\n",
              "    <tr>\n",
              "      <th>std</th>\n",
              "      <td>250.649887</td>\n",
              "      <td>1.439021e+05</td>\n",
              "      <td>2.448664e+12</td>\n",
              "      <td>1.576706e+12</td>\n",
              "      <td>28036.333577</td>\n",
              "    </tr>\n",
              "    <tr>\n",
              "      <th>min</th>\n",
              "      <td>4.000000</td>\n",
              "      <td>4.000000e+00</td>\n",
              "      <td>0.000000e+00</td>\n",
              "      <td>0.000000e+00</td>\n",
              "      <td>278.000000</td>\n",
              "    </tr>\n",
              "    <tr>\n",
              "      <th>25%</th>\n",
              "      <td>211.000000</td>\n",
              "      <td>1.247500e+03</td>\n",
              "      <td>2.880000e+09</td>\n",
              "      <td>4.638538e+09</td>\n",
              "      <td>2484.000000</td>\n",
              "    </tr>\n",
              "    <tr>\n",
              "      <th>50%</th>\n",
              "      <td>429.000000</td>\n",
              "      <td>6.967000e+03</td>\n",
              "      <td>2.951600e+10</td>\n",
              "      <td>2.128999e+10</td>\n",
              "      <td>7481.000000</td>\n",
              "    </tr>\n",
              "    <tr>\n",
              "      <th>75%</th>\n",
              "      <td>642.250000</td>\n",
              "      <td>2.756325e+04</td>\n",
              "      <td>2.265350e+11</td>\n",
              "      <td>1.592921e+11</td>\n",
              "      <td>23996.750000</td>\n",
              "    </tr>\n",
              "    <tr>\n",
              "      <th>max</th>\n",
              "      <td>894.000000</td>\n",
              "      <td>1.428627e+06</td>\n",
              "      <td>2.669515e+13</td>\n",
              "      <td>1.862448e+13</td>\n",
              "      <td>178196.000000</td>\n",
              "    </tr>\n",
              "  </tbody>\n",
              "</table>\n",
              "</div>\n",
              "      <button class=\"colab-df-convert\" onclick=\"convertToInteractive('df-62409038-4660-42be-b8d2-c83c0d9adce9')\"\n",
              "              title=\"Convert this dataframe to an interactive table.\"\n",
              "              style=\"display:none;\">\n",
              "        \n",
              "  <svg xmlns=\"http://www.w3.org/2000/svg\" height=\"24px\"viewBox=\"0 0 24 24\"\n",
              "       width=\"24px\">\n",
              "    <path d=\"M0 0h24v24H0V0z\" fill=\"none\"/>\n",
              "    <path d=\"M18.56 5.44l.94 2.06.94-2.06 2.06-.94-2.06-.94-.94-2.06-.94 2.06-2.06.94zm-11 1L8.5 8.5l.94-2.06 2.06-.94-2.06-.94L8.5 2.5l-.94 2.06-2.06.94zm10 10l.94 2.06.94-2.06 2.06-.94-2.06-.94-.94-2.06-.94 2.06-2.06.94z\"/><path d=\"M17.41 7.96l-1.37-1.37c-.4-.4-.92-.59-1.43-.59-.52 0-1.04.2-1.43.59L10.3 9.45l-7.72 7.72c-.78.78-.78 2.05 0 2.83L4 21.41c.39.39.9.59 1.41.59.51 0 1.02-.2 1.41-.59l7.78-7.78 2.81-2.81c.8-.78.8-2.07 0-2.86zM5.41 20L4 18.59l7.72-7.72 1.47 1.35L5.41 20z\"/>\n",
              "  </svg>\n",
              "      </button>\n",
              "      \n",
              "  <style>\n",
              "    .colab-df-container {\n",
              "      display:flex;\n",
              "      flex-wrap:wrap;\n",
              "      gap: 12px;\n",
              "    }\n",
              "\n",
              "    .colab-df-convert {\n",
              "      background-color: #E8F0FE;\n",
              "      border: none;\n",
              "      border-radius: 50%;\n",
              "      cursor: pointer;\n",
              "      display: none;\n",
              "      fill: #1967D2;\n",
              "      height: 32px;\n",
              "      padding: 0 0 0 0;\n",
              "      width: 32px;\n",
              "    }\n",
              "\n",
              "    .colab-df-convert:hover {\n",
              "      background-color: #E2EBFA;\n",
              "      box-shadow: 0px 1px 2px rgba(60, 64, 67, 0.3), 0px 1px 3px 1px rgba(60, 64, 67, 0.15);\n",
              "      fill: #174EA6;\n",
              "    }\n",
              "\n",
              "    [theme=dark] .colab-df-convert {\n",
              "      background-color: #3B4455;\n",
              "      fill: #D2E3FC;\n",
              "    }\n",
              "\n",
              "    [theme=dark] .colab-df-convert:hover {\n",
              "      background-color: #434B5C;\n",
              "      box-shadow: 0px 1px 3px 1px rgba(0, 0, 0, 0.15);\n",
              "      filter: drop-shadow(0px 1px 2px rgba(0, 0, 0, 0.3));\n",
              "      fill: #FFFFFF;\n",
              "    }\n",
              "  </style>\n",
              "\n",
              "      <script>\n",
              "        const buttonEl =\n",
              "          document.querySelector('#df-62409038-4660-42be-b8d2-c83c0d9adce9 button.colab-df-convert');\n",
              "        buttonEl.style.display =\n",
              "          google.colab.kernel.accessAllowed ? 'block' : 'none';\n",
              "\n",
              "        async function convertToInteractive(key) {\n",
              "          const element = document.querySelector('#df-62409038-4660-42be-b8d2-c83c0d9adce9');\n",
              "          const dataTable =\n",
              "            await google.colab.kernel.invokeFunction('convertToInteractive',\n",
              "                                                     [key], {});\n",
              "          if (!dataTable) return;\n",
              "\n",
              "          const docLinkHtml = 'Like what you see? Visit the ' +\n",
              "            '<a target=\"_blank\" href=https://colab.research.google.com/notebooks/data_table.ipynb>data table notebook</a>'\n",
              "            + ' to learn more about interactive tables.';\n",
              "          element.innerHTML = '';\n",
              "          dataTable['output_type'] = 'display_data';\n",
              "          await google.colab.output.renderOutput(dataTable, element);\n",
              "          const docLink = document.createElement('div');\n",
              "          docLink.innerHTML = docLinkHtml;\n",
              "          element.appendChild(docLink);\n",
              "        }\n",
              "      </script>\n",
              "    </div>\n",
              "  </div>\n",
              "  "
            ]
          },
          "metadata": {},
          "execution_count": 69
        }
      ]
    },
    {
      "cell_type": "markdown",
      "source": [
        "# Data Visualisation"
      ],
      "metadata": {
        "id": "7nW4QzC8CoaU"
      }
    },
    {
      "cell_type": "code",
      "execution_count": null,
      "metadata": {
        "colab": {
          "base_uri": "https://localhost:8080/",
          "height": 452
        },
        "id": "uTTmx7ur8m54",
        "outputId": "644b5dce-72be-4c75-e46a-029da5e8cc03"
      },
      "outputs": [
        {
          "output_type": "display_data",
          "data": {
            "text/plain": [
              "<Figure size 640x480 with 1 Axes>"
            ],
            "image/png": "[encoded data removed]"
          },
          "metadata": {}
        }
      ],
      "source": [
        "x=d['Continent']\n",
        "y=d['Population']\n",
        "plt.bar(x,y)\n",
        "plt.title('Bar plot')\n",
        "plt.show()"
      ]
    },
    {
      "cell_type": "code",
      "execution_count": null,
      "metadata": {
        "colab": {
          "base_uri": "https://localhost:8080/",
          "height": 452
        },
        "id": "ZZ5f1GR-9JZL",
        "outputId": "11396063-957d-4657-f7fb-2e341d51e2e3"
      },
      "outputs": [
        {
          "output_type": "display_data",
          "data": {
            "text/plain": [
              "<Figure size 640x480 with 1 Axes>"
            ],
            "image/png": "[encoded data removed]"
          },
          "metadata": {}
        }
      ],
      "source": [
        "x=d['Continent']\n",
        "y=d['IMF_GDP']\n",
        "plt.bar(x,y)\n",
        "plt.title('Bar plot')\n",
        "plt.show()"
      ]
    },
    {
      "cell_type": "code",
      "execution_count": null,
      "metadata": {
        "colab": {
          "base_uri": "https://localhost:8080/",
          "height": 452
        },
        "id": "6P7Emgg89VGZ",
        "outputId": "bf316e3a-7bf0-449e-eaf5-542dda5898b4"
      },
      "outputs": [
        {
          "output_type": "display_data",
          "data": {
            "text/plain": [
              "<Figure size 640x480 with 1 Axes>"
            ],
            "image/png": "[encoded data removed]"
          },
          "metadata": {}
        }
      ],
      "source": [
        "x=d['Continent']\n",
        "y=d['UN_GDP']\n",
        "plt.bar(x,y)\n",
        "plt.title('Bar plot')\n",
        "plt.show()"
      ]
    },
    {
      "cell_type": "code",
      "execution_count": null,
      "metadata": {
        "colab": {
          "base_uri": "https://localhost:8080/",
          "height": 452
        },
        "id": "wPIYRuxk9t0t",
        "outputId": "232dbb4a-138c-48b1-e3fa-fc41c375f5b5"
      },
      "outputs": [
        {
          "output_type": "display_data",
          "data": {
            "text/plain": [
              "<Figure size 640x480 with 1 Axes>"
            ],
            "image/png": "[encoded data removed]"
          },
          "metadata": {}
        }
      ],
      "source": [
        "x=d['Continent']\n",
        "y=d['GDP_per_capita']\n",
        "plt.bar(x,y)\n",
        "plt.title('Bar plot')\n",
        "plt.show()"
      ]
    },
    {
      "cell_type": "code",
      "execution_count": null,
      "metadata": {
        "colab": {
          "base_uri": "https://localhost:8080/",
          "height": 452
        },
        "id": "1vN3ND4Y-IE7",
        "outputId": "7a941edf-226a-4e16-c963-f51b9ba79e24"
      },
      "outputs": [
        {
          "output_type": "display_data",
          "data": {
            "text/plain": [
              "<Figure size 640x480 with 6 Axes>"
            ],
            "image/png": "[encoded data removed]"
          },
          "metadata": {}
        }
      ],
      "source": [
        "d.hist()\n",
        "plt.show()"
      ]
    },
    {
      "cell_type": "code",
      "source": [
        "#Encoding\n",
        "#get_dummies\n",
        "\n",
        "d1 = pd.get_dummies(d[['Country','Continent']],drop_first=True)\n",
        "d1.head()"
      ],
      "metadata": {
        "colab": {
          "base_uri": "https://localhost:8080/",
          "height": 317
        },
        "id": "5pEWO2WIETEH",
        "outputId": "0b745185-5496-4aea-a991-17b4737d73a3"
      },
      "execution_count": null,
      "outputs": [
        {
          "output_type": "execute_result",
          "data": {
            "text/plain": [
              "   Country_Albania  Country_Algeria  Country_Andorra  Country_Angola  \\\n",
              "0                0                0                0               0   \n",
              "1                0                0                0               0   \n",
              "2                0                0                0               0   \n",
              "3                0                0                0               0   \n",
              "4                0                0                0               0   \n",
              "\n",
              "   Country_Anguilla  Country_Antigua and Barbuda  Country_Argentina  \\\n",
              "0                 0                            0                  0   \n",
              "1                 0                            0                  0   \n",
              "2                 0                            0                  0   \n",
              "3                 0                            0                  0   \n",
              "4                 0                            0                  0   \n",
              "\n",
              "   Country_Armenia  Country_Aruba  Country_Australia  ...  Country_Venezuela  \\\n",
              "0                0              0                  0  ...                  0   \n",
              "1                0              0                  0  ...                  0   \n",
              "2                0              0                  0  ...                  0   \n",
              "3                0              0                  0  ...                  0   \n",
              "4                0              0                  0  ...                  0   \n",
              "\n",
              "   Country_Vietnam  Country_Yemen  Country_Zambia  Country_Zimbabwe  \\\n",
              "0                0              0               0                 0   \n",
              "1                0              0               0                 0   \n",
              "2                0              0               0                 0   \n",
              "3                0              0               0                 0   \n",
              "4                0              0               0                 0   \n",
              "\n",
              "   Continent_Asia  Continent_Europe  Continent_North America  \\\n",
              "0               0                 0                        1   \n",
              "1               1                 0                        0   \n",
              "2               1                 0                        0   \n",
              "3               0                 1                        0   \n",
              "4               1                 0                        0   \n",
              "\n",
              "   Continent_Oceania  Continent_South America  \n",
              "0                  0                        0  \n",
              "1                  0                        0  \n",
              "2                  0                        0  \n",
              "3                  0                        0  \n",
              "4                  0                        0  \n",
              "\n",
              "[5 rows x 216 columns]"
            ],
            "text/html": [
              "\n",
              "  <div id=\"df-1a29e5f9-e2ad-4e2e-90fc-1628d6486211\">\n",
              "    <div class=\"colab-df-container\">\n",
              "      <div>\n",
              "<style scoped>\n",
              "    .dataframe tbody tr th:only-of-type {\n",
              "        vertical-align: middle;\n",
              "    }\n",
              "\n",
              "    .dataframe tbody tr th {\n",
              "        vertical-align: top;\n",
              "    }\n",
              "\n",
              "    .dataframe thead th {\n",
              "        text-align: right;\n",
              "    }\n",
              "</style>\n",
              "<table border=\"1\" class=\"dataframe\">\n",
              "  <thead>\n",
              "    <tr style=\"text-align: right;\">\n",
              "      <th></th>\n",
              "      <th>Country_Albania</th>\n",
              "      <th>Country_Algeria</th>\n",
              "      <th>Country_Andorra</th>\n",
              "      <th>Country_Angola</th>\n",
              "      <th>Country_Anguilla</th>\n",
              "      <th>Country_Antigua and Barbuda</th>\n",
              "      <th>Country_Argentina</th>\n",
              "      <th>Country_Armenia</th>\n",
              "      <th>Country_Aruba</th>\n",
              "      <th>Country_Australia</th>\n",
              "      <th>...</th>\n",
              "      <th>Country_Venezuela</th>\n",
              "      <th>Country_Vietnam</th>\n",
              "      <th>Country_Yemen</th>\n",
              "      <th>Country_Zambia</th>\n",
              "      <th>Country_Zimbabwe</th>\n",
              "      <th>Continent_Asia</th>\n",
              "      <th>Continent_Europe</th>\n",
              "      <th>Continent_North America</th>\n",
              "      <th>Continent_Oceania</th>\n",
              "      <th>Continent_South America</th>\n",
              "    </tr>\n",
              "  </thead>\n",
              "  <tbody>\n",
              "    <tr>\n",
              "      <th>0</th>\n",
              "      <td>0</td>\n",
              "      <td>0</td>\n",
              "      <td>0</td>\n",
              "      <td>0</td>\n",
              "      <td>0</td>\n",
              "      <td>0</td>\n",
              "      <td>0</td>\n",
              "      <td>0</td>\n",
              "      <td>0</td>\n",
              "      <td>0</td>\n",
              "      <td>...</td>\n",
              "      <td>0</td>\n",
              "      <td>0</td>\n",
              "      <td>0</td>\n",
              "      <td>0</td>\n",
              "      <td>0</td>\n",
              "      <td>0</td>\n",
              "      <td>0</td>\n",
              "      <td>1</td>\n",
              "      <td>0</td>\n",
              "      <td>0</td>\n",
              "    </tr>\n",
              "    <tr>\n",
              "      <th>1</th>\n",
              "      <td>0</td>\n",
              "      <td>0</td>\n",
              "      <td>0</td>\n",
              "      <td>0</td>\n",
              "      <td>0</td>\n",
              "      <td>0</td>\n",
              "      <td>0</td>\n",
              "      <td>0</td>\n",
              "      <td>0</td>\n",
              "      <td>0</td>\n",
              "      <td>...</td>\n",
              "      <td>0</td>\n",
              "      <td>0</td>\n",
              "      <td>0</td>\n",
              "      <td>0</td>\n",
              "      <td>0</td>\n",
              "      <td>1</td>\n",
              "      <td>0</td>\n",
              "      <td>0</td>\n",
              "      <td>0</td>\n",
              "      <td>0</td>\n",
              "    </tr>\n",
              "    <tr>\n",
              "      <th>2</th>\n",
              "      <td>0</td>\n",
              "      <td>0</td>\n",
              "      <td>0</td>\n",
              "      <td>0</td>\n",
              "      <td>0</td>\n",
              "      <td>0</td>\n",
              "      <td>0</td>\n",
              "      <td>0</td>\n",
              "      <td>0</td>\n",
              "      <td>0</td>\n",
              "      <td>...</td>\n",
              "      <td>0</td>\n",
              "      <td>0</td>\n",
              "      <td>0</td>\n",
              "      <td>0</td>\n",
              "      <td>0</td>\n",
              "      <td>1</td>\n",
              "      <td>0</td>\n",
              "      <td>0</td>\n",
              "      <td>0</td>\n",
              "      <td>0</td>\n",
              "    </tr>\n",
              "    <tr>\n",
              "      <th>3</th>\n",
              "      <td>0</td>\n",
              "      <td>0</td>\n",
              "      <td>0</td>\n",
              "      <td>0</td>\n",
              "      <td>0</td>\n",
              "      <td>0</td>\n",
              "      <td>0</td>\n",
              "      <td>0</td>\n",
              "      <td>0</td>\n",
              "      <td>0</td>\n",
              "      <td>...</td>\n",
              "      <td>0</td>\n",
              "      <td>0</td>\n",
              "      <td>0</td>\n",
              "      <td>0</td>\n",
              "      <td>0</td>\n",
              "      <td>0</td>\n",
              "      <td>1</td>\n",
              "      <td>0</td>\n",
              "      <td>0</td>\n",
              "      <td>0</td>\n",
              "    </tr>\n",
              "    <tr>\n",
              "      <th>4</th>\n",
              "      <td>0</td>\n",
              "      <td>0</td>\n",
              "      <td>0</td>\n",
              "      <td>0</td>\n",
              "      <td>0</td>\n",
              "      <td>0</td>\n",
              "      <td>0</td>\n",
              "      <td>0</td>\n",
              "      <td>0</td>\n",
              "      <td>0</td>\n",
              "      <td>...</td>\n",
              "      <td>0</td>\n",
              "      <td>0</td>\n",
              "      <td>0</td>\n",
              "      <td>0</td>\n",
              "      <td>0</td>\n",
              "      <td>1</td>\n",
              "      <td>0</td>\n",
              "      <td>0</td>\n",
              "      <td>0</td>\n",
              "      <td>0</td>\n",
              "    </tr>\n",
              "  </tbody>\n",
              "</table>\n",
              "<p>5 rows × 216 columns</p>\n",
              "</div>\n",
              "      <button class=\"colab-df-convert\" onclick=\"convertToInteractive('df-1a29e5f9-e2ad-4e2e-90fc-1628d6486211')\"\n",
              "              title=\"Convert this dataframe to an interactive table.\"\n",
              "              style=\"display:none;\">\n",
              "        \n",
              "  <svg xmlns=\"http://www.w3.org/2000/svg\" height=\"24px\"viewBox=\"0 0 24 24\"\n",
              "       width=\"24px\">\n",
              "    <path d=\"M0 0h24v24H0V0z\" fill=\"none\"/>\n",
              "    <path d=\"M18.56 5.44l.94 2.06.94-2.06 2.06-.94-2.06-.94-.94-2.06-.94 2.06-2.06.94zm-11 1L8.5 8.5l.94-2.06 2.06-.94-2.06-.94L8.5 2.5l-.94 2.06-2.06.94zm10 10l.94 2.06.94-2.06 2.06-.94-2.06-.94-.94-2.06-.94 2.06-2.06.94z\"/><path d=\"M17.41 7.96l-1.37-1.37c-.4-.4-.92-.59-1.43-.59-.52 0-1.04.2-1.43.59L10.3 9.45l-7.72 7.72c-.78.78-.78 2.05 0 2.83L4 21.41c.39.39.9.59 1.41.59.51 0 1.02-.2 1.41-.59l7.78-7.78 2.81-2.81c.8-.78.8-2.07 0-2.86zM5.41 20L4 18.59l7.72-7.72 1.47 1.35L5.41 20z\"/>\n",
              "  </svg>\n",
              "      </button>\n",
              "      \n",
              "  <style>\n",
              "    .colab-df-container {\n",
              "      display:flex;\n",
              "      flex-wrap:wrap;\n",
              "      gap: 12px;\n",
              "    }\n",
              "\n",
              "    .colab-df-convert {\n",
              "      background-color: #E8F0FE;\n",
              "      border: none;\n",
              "      border-radius: 50%;\n",
              "      cursor: pointer;\n",
              "      display: none;\n",
              "      fill: #1967D2;\n",
              "      height: 32px;\n",
              "      padding: 0 0 0 0;\n",
              "      width: 32px;\n",
              "    }\n",
              "\n",
              "    .colab-df-convert:hover {\n",
              "      background-color: #E2EBFA;\n",
              "      box-shadow: 0px 1px 2px rgba(60, 64, 67, 0.3), 0px 1px 3px 1px rgba(60, 64, 67, 0.15);\n",
              "      fill: #174EA6;\n",
              "    }\n",
              "\n",
              "    [theme=dark] .colab-df-convert {\n",
              "      background-color: #3B4455;\n",
              "      fill: #D2E3FC;\n",
              "    }\n",
              "\n",
              "    [theme=dark] .colab-df-convert:hover {\n",
              "      background-color: #434B5C;\n",
              "      box-shadow: 0px 1px 3px 1px rgba(0, 0, 0, 0.15);\n",
              "      filter: drop-shadow(0px 1px 2px rgba(0, 0, 0, 0.3));\n",
              "      fill: #FFFFFF;\n",
              "    }\n",
              "  </style>\n",
              "\n",
              "      <script>\n",
              "        const buttonEl =\n",
              "          document.querySelector('#df-1a29e5f9-e2ad-4e2e-90fc-1628d6486211 button.colab-df-convert');\n",
              "        buttonEl.style.display =\n",
              "          google.colab.kernel.accessAllowed ? 'block' : 'none';\n",
              "\n",
              "        async function convertToInteractive(key) {\n",
              "          const element = document.querySelector('#df-1a29e5f9-e2ad-4e2e-90fc-1628d6486211');\n",
              "          const dataTable =\n",
              "            await google.colab.kernel.invokeFunction('convertToInteractive',\n",
              "                                                     [key], {});\n",
              "          if (!dataTable) return;\n",
              "\n",
              "          const docLinkHtml = 'Like what you see? Visit the ' +\n",
              "            '<a target=\"_blank\" href=https://colab.research.google.com/notebooks/data_table.ipynb>data table notebook</a>'\n",
              "            + ' to learn more about interactive tables.';\n",
              "          element.innerHTML = '';\n",
              "          dataTable['output_type'] = 'display_data';\n",
              "          await google.colab.output.renderOutput(dataTable, element);\n",
              "          const docLink = document.createElement('div');\n",
              "          docLink.innerHTML = docLinkHtml;\n",
              "          element.appendChild(docLink);\n",
              "        }\n",
              "      </script>\n",
              "    </div>\n",
              "  </div>\n",
              "  "
            ]
          },
          "metadata": {},
          "execution_count": 75
        }
      ]
    },
    {
      "cell_type": "code",
      "source": [
        "#concatnation\n",
        "d2 = pd.concat([d,d1],axis=1)\n",
        "d2.head()"
      ],
      "metadata": {
        "id": "bsxuD3dXE4T6",
        "colab": {
          "base_uri": "https://localhost:8080/",
          "height": 334
        },
        "outputId": "4c62d259-24ee-4653-9951-02405b12d20c"
      },
      "execution_count": null,
      "outputs": [
        {
          "output_type": "execute_result",
          "data": {
            "text/plain": [
              "    ID        Country      Continent  Population         IMF_GDP  \\\n",
              "0  840  United States  North America      339996  26695150000000   \n",
              "1  156          China           Asia     1425671  21865482000000   \n",
              "2  392          Japan           Asia      123294   5291351000000   \n",
              "3  276        Germany         Europe       83294   4564778000000   \n",
              "4  356          India           Asia     1428627   3893670000000   \n",
              "\n",
              "           UN_GDP  GDP_per_capita  Country_Albania  Country_Algeria  \\\n",
              "0  18624475000000           78515                0                0   \n",
              "1  11218281029298           15336                0                0   \n",
              "2   4936211827875           42916                0                0   \n",
              "3   3477796274497           54802                0                0   \n",
              "4   2259642382872            2725                0                0   \n",
              "\n",
              "   Country_Andorra  ...  Country_Venezuela  Country_Vietnam  Country_Yemen  \\\n",
              "0                0  ...                  0                0              0   \n",
              "1                0  ...                  0                0              0   \n",
              "2                0  ...                  0                0              0   \n",
              "3                0  ...                  0                0              0   \n",
              "4                0  ...                  0                0              0   \n",
              "\n",
              "   Country_Zambia  Country_Zimbabwe  Continent_Asia  Continent_Europe  \\\n",
              "0               0                 0               0                 0   \n",
              "1               0                 0               1                 0   \n",
              "2               0                 0               1                 0   \n",
              "3               0                 0               0                 1   \n",
              "4               0                 0               1                 0   \n",
              "\n",
              "   Continent_North America  Continent_Oceania  Continent_South America  \n",
              "0                        1                  0                        0  \n",
              "1                        0                  0                        0  \n",
              "2                        0                  0                        0  \n",
              "3                        0                  0                        0  \n",
              "4                        0                  0                        0  \n",
              "\n",
              "[5 rows x 223 columns]"
            ],
            "text/html": [
              "\n",
              "  <div id=\"df-e1dc97e1-1d37-4850-9c34-2e637412f4d3\">\n",
              "    <div class=\"colab-df-container\">\n",
              "      <div>\n",
              "<style scoped>\n",
              "    .dataframe tbody tr th:only-of-type {\n",
              "        vertical-align: middle;\n",
              "    }\n",
              "\n",
              "    .dataframe tbody tr th {\n",
              "        vertical-align: top;\n",
              "    }\n",
              "\n",
              "    .dataframe thead th {\n",
              "        text-align: right;\n",
              "    }\n",
              "</style>\n",
              "<table border=\"1\" class=\"dataframe\">\n",
              "  <thead>\n",
              "    <tr style=\"text-align: right;\">\n",
              "      <th></th>\n",
              "      <th>ID</th>\n",
              "      <th>Country</th>\n",
              "      <th>Continent</th>\n",
              "      <th>Population</th>\n",
              "      <th>IMF_GDP</th>\n",
              "      <th>UN_GDP</th>\n",
              "      <th>GDP_per_capita</th>\n",
              "      <th>Country_Albania</th>\n",
              "      <th>Country_Algeria</th>\n",
              "      <th>Country_Andorra</th>\n",
              "      <th>...</th>\n",
              "      <th>Country_Venezuela</th>\n",
              "      <th>Country_Vietnam</th>\n",
              "      <th>Country_Yemen</th>\n",
              "      <th>Country_Zambia</th>\n",
              "      <th>Country_Zimbabwe</th>\n",
              "      <th>Continent_Asia</th>\n",
              "      <th>Continent_Europe</th>\n",
              "      <th>Continent_North America</th>\n",
              "      <th>Continent_Oceania</th>\n",
              "      <th>Continent_South America</th>\n",
              "    </tr>\n",
              "  </thead>\n",
              "  <tbody>\n",
              "    <tr>\n",
              "      <th>0</th>\n",
              "      <td>840</td>\n",
              "      <td>United States</td>\n",
              "      <td>North America</td>\n",
              "      <td>339996</td>\n",
              "      <td>26695150000000</td>\n",
              "      <td>18624475000000</td>\n",
              "      <td>78515</td>\n",
              "      <td>0</td>\n",
              "      <td>0</td>\n",
              "      <td>0</td>\n",
              "      <td>...</td>\n",
              "      <td>0</td>\n",
              "      <td>0</td>\n",
              "      <td>0</td>\n",
              "      <td>0</td>\n",
              "      <td>0</td>\n",
              "      <td>0</td>\n",
              "      <td>0</td>\n",
              "      <td>1</td>\n",
              "      <td>0</td>\n",
              "      <td>0</td>\n",
              "    </tr>\n",
              "    <tr>\n",
              "      <th>1</th>\n",
              "      <td>156</td>\n",
              "      <td>China</td>\n",
              "      <td>Asia</td>\n",
              "      <td>1425671</td>\n",
              "      <td>21865482000000</td>\n",
              "      <td>11218281029298</td>\n",
              "      <td>15336</td>\n",
              "      <td>0</td>\n",
              "      <td>0</td>\n",
              "      <td>0</td>\n",
              "      <td>...</td>\n",
              "      <td>0</td>\n",
              "      <td>0</td>\n",
              "      <td>0</td>\n",
              "      <td>0</td>\n",
              "      <td>0</td>\n",
              "      <td>1</td>\n",
              "      <td>0</td>\n",
              "      <td>0</td>\n",
              "      <td>0</td>\n",
              "      <td>0</td>\n",
              "    </tr>\n",
              "    <tr>\n",
              "      <th>2</th>\n",
              "      <td>392</td>\n",
              "      <td>Japan</td>\n",
              "      <td>Asia</td>\n",
              "      <td>123294</td>\n",
              "      <td>5291351000000</td>\n",
              "      <td>4936211827875</td>\n",
              "      <td>42916</td>\n",
              "      <td>0</td>\n",
              "      <td>0</td>\n",
              "      <td>0</td>\n",
              "      <td>...</td>\n",
              "      <td>0</td>\n",
              "      <td>0</td>\n",
              "      <td>0</td>\n",
              "      <td>0</td>\n",
              "      <td>0</td>\n",
              "      <td>1</td>\n",
              "      <td>0</td>\n",
              "      <td>0</td>\n",
              "      <td>0</td>\n",
              "      <td>0</td>\n",
              "    </tr>\n",
              "    <tr>\n",
              "      <th>3</th>\n",
              "      <td>276</td>\n",
              "      <td>Germany</td>\n",
              "      <td>Europe</td>\n",
              "      <td>83294</td>\n",
              "      <td>4564778000000</td>\n",
              "      <td>3477796274497</td>\n",
              "      <td>54802</td>\n",
              "      <td>0</td>\n",
              "      <td>0</td>\n",
              "      <td>0</td>\n",
              "      <td>...</td>\n",
              "      <td>0</td>\n",
              "      <td>0</td>\n",
              "      <td>0</td>\n",
              "      <td>0</td>\n",
              "      <td>0</td>\n",
              "      <td>0</td>\n",
              "      <td>1</td>\n",
              "      <td>0</td>\n",
              "      <td>0</td>\n",
              "      <td>0</td>\n",
              "    </tr>\n",
              "    <tr>\n",
              "      <th>4</th>\n",
              "      <td>356</td>\n",
              "      <td>India</td>\n",
              "      <td>Asia</td>\n",
              "      <td>1428627</td>\n",
              "      <td>3893670000000</td>\n",
              "      <td>2259642382872</td>\n",
              "      <td>2725</td>\n",
              "      <td>0</td>\n",
              "      <td>0</td>\n",
              "      <td>0</td>\n",
              "      <td>...</td>\n",
              "      <td>0</td>\n",
              "      <td>0</td>\n",
              "      <td>0</td>\n",
              "      <td>0</td>\n",
              "      <td>0</td>\n",
              "      <td>1</td>\n",
              "      <td>0</td>\n",
              "      <td>0</td>\n",
              "      <td>0</td>\n",
              "      <td>0</td>\n",
              "    </tr>\n",
              "  </tbody>\n",
              "</table>\n",
              "<p>5 rows × 223 columns</p>\n",
              "</div>\n",
              "      <button class=\"colab-df-convert\" onclick=\"convertToInteractive('df-e1dc97e1-1d37-4850-9c34-2e637412f4d3')\"\n",
              "              title=\"Convert this dataframe to an interactive table.\"\n",
              "              style=\"display:none;\">\n",
              "        \n",
              "  <svg xmlns=\"http://www.w3.org/2000/svg\" height=\"24px\"viewBox=\"0 0 24 24\"\n",
              "       width=\"24px\">\n",
              "    <path d=\"M0 0h24v24H0V0z\" fill=\"none\"/>\n",
              "    <path d=\"M18.56 5.44l.94 2.06.94-2.06 2.06-.94-2.06-.94-.94-2.06-.94 2.06-2.06.94zm-11 1L8.5 8.5l.94-2.06 2.06-.94-2.06-.94L8.5 2.5l-.94 2.06-2.06.94zm10 10l.94 2.06.94-2.06 2.06-.94-2.06-.94-.94-2.06-.94 2.06-2.06.94z\"/><path d=\"M17.41 7.96l-1.37-1.37c-.4-.4-.92-.59-1.43-.59-.52 0-1.04.2-1.43.59L10.3 9.45l-7.72 7.72c-.78.78-.78 2.05 0 2.83L4 21.41c.39.39.9.59 1.41.59.51 0 1.02-.2 1.41-.59l7.78-7.78 2.81-2.81c.8-.78.8-2.07 0-2.86zM5.41 20L4 18.59l7.72-7.72 1.47 1.35L5.41 20z\"/>\n",
              "  </svg>\n",
              "      </button>\n",
              "      \n",
              "  <style>\n",
              "    .colab-df-container {\n",
              "      display:flex;\n",
              "      flex-wrap:wrap;\n",
              "      gap: 12px;\n",
              "    }\n",
              "\n",
              "    .colab-df-convert {\n",
              "      background-color: #E8F0FE;\n",
              "      border: none;\n",
              "      border-radius: 50%;\n",
              "      cursor: pointer;\n",
              "      display: none;\n",
              "      fill: #1967D2;\n",
              "      height: 32px;\n",
              "      padding: 0 0 0 0;\n",
              "      width: 32px;\n",
              "    }\n",
              "\n",
              "    .colab-df-convert:hover {\n",
              "      background-color: #E2EBFA;\n",
              "      box-shadow: 0px 1px 2px rgba(60, 64, 67, 0.3), 0px 1px 3px 1px rgba(60, 64, 67, 0.15);\n",
              "      fill: #174EA6;\n",
              "    }\n",
              "\n",
              "    [theme=dark] .colab-df-convert {\n",
              "      background-color: #3B4455;\n",
              "      fill: #D2E3FC;\n",
              "    }\n",
              "\n",
              "    [theme=dark] .colab-df-convert:hover {\n",
              "      background-color: #434B5C;\n",
              "      box-shadow: 0px 1px 3px 1px rgba(0, 0, 0, 0.15);\n",
              "      filter: drop-shadow(0px 1px 2px rgba(0, 0, 0, 0.3));\n",
              "      fill: #FFFFFF;\n",
              "    }\n",
              "  </style>\n",
              "\n",
              "      <script>\n",
              "        const buttonEl =\n",
              "          document.querySelector('#df-e1dc97e1-1d37-4850-9c34-2e637412f4d3 button.colab-df-convert');\n",
              "        buttonEl.style.display =\n",
              "          google.colab.kernel.accessAllowed ? 'block' : 'none';\n",
              "\n",
              "        async function convertToInteractive(key) {\n",
              "          const element = document.querySelector('#df-e1dc97e1-1d37-4850-9c34-2e637412f4d3');\n",
              "          const dataTable =\n",
              "            await google.colab.kernel.invokeFunction('convertToInteractive',\n",
              "                                                     [key], {});\n",
              "          if (!dataTable) return;\n",
              "\n",
              "          const docLinkHtml = 'Like what you see? Visit the ' +\n",
              "            '<a target=\"_blank\" href=https://colab.research.google.com/notebooks/data_table.ipynb>data table notebook</a>'\n",
              "            + ' to learn more about interactive tables.';\n",
              "          element.innerHTML = '';\n",
              "          dataTable['output_type'] = 'display_data';\n",
              "          await google.colab.output.renderOutput(dataTable, element);\n",
              "          const docLink = document.createElement('div');\n",
              "          docLink.innerHTML = docLinkHtml;\n",
              "          element.appendChild(docLink);\n",
              "        }\n",
              "      </script>\n",
              "    </div>\n",
              "  </div>\n",
              "  "
            ]
          },
          "metadata": {},
          "execution_count": 76
        }
      ]
    },
    {
      "cell_type": "code",
      "source": [
        "#removing the unwanted columns\n",
        "d = d2.drop(['Continent','Country'],axis=1)\n",
        "d.head()"
      ],
      "metadata": {
        "colab": {
          "base_uri": "https://localhost:8080/",
          "height": 317
        },
        "id": "xh8Sg-zIF_Ls",
        "outputId": "c7b2b58d-f2cc-4566-a9f2-af894a8a9818"
      },
      "execution_count": null,
      "outputs": [
        {
          "output_type": "execute_result",
          "data": {
            "text/plain": [
              "    ID  Population         IMF_GDP          UN_GDP  GDP_per_capita  \\\n",
              "0  840      339996  26695150000000  18624475000000           78515   \n",
              "1  156     1425671  21865482000000  11218281029298           15336   \n",
              "2  392      123294   5291351000000   4936211827875           42916   \n",
              "3  276       83294   4564778000000   3477796274497           54802   \n",
              "4  356     1428627   3893670000000   2259642382872            2725   \n",
              "\n",
              "   Country_Albania  Country_Algeria  Country_Andorra  Country_Angola  \\\n",
              "0                0                0                0               0   \n",
              "1                0                0                0               0   \n",
              "2                0                0                0               0   \n",
              "3                0                0                0               0   \n",
              "4                0                0                0               0   \n",
              "\n",
              "   Country_Anguilla  ...  Country_Venezuela  Country_Vietnam  Country_Yemen  \\\n",
              "0                 0  ...                  0                0              0   \n",
              "1                 0  ...                  0                0              0   \n",
              "2                 0  ...                  0                0              0   \n",
              "3                 0  ...                  0                0              0   \n",
              "4                 0  ...                  0                0              0   \n",
              "\n",
              "   Country_Zambia  Country_Zimbabwe  Continent_Asia  Continent_Europe  \\\n",
              "0               0                 0               0                 0   \n",
              "1               0                 0               1                 0   \n",
              "2               0                 0               1                 0   \n",
              "3               0                 0               0                 1   \n",
              "4               0                 0               1                 0   \n",
              "\n",
              "   Continent_North America  Continent_Oceania  Continent_South America  \n",
              "0                        1                  0                        0  \n",
              "1                        0                  0                        0  \n",
              "2                        0                  0                        0  \n",
              "3                        0                  0                        0  \n",
              "4                        0                  0                        0  \n",
              "\n",
              "[5 rows x 221 columns]"
            ],
            "text/html": [
              "\n",
              "  <div id=\"df-63fbccb6-9825-4a4a-8e71-2a6eeafa29e7\">\n",
              "    <div class=\"colab-df-container\">\n",
              "      <div>\n",
              "<style scoped>\n",
              "    .dataframe tbody tr th:only-of-type {\n",
              "        vertical-align: middle;\n",
              "    }\n",
              "\n",
              "    .dataframe tbody tr th {\n",
              "        vertical-align: top;\n",
              "    }\n",
              "\n",
              "    .dataframe thead th {\n",
              "        text-align: right;\n",
              "    }\n",
              "</style>\n",
              "<table border=\"1\" class=\"dataframe\">\n",
              "  <thead>\n",
              "    <tr style=\"text-align: right;\">\n",
              "      <th></th>\n",
              "      <th>ID</th>\n",
              "      <th>Population</th>\n",
              "      <th>IMF_GDP</th>\n",
              "      <th>UN_GDP</th>\n",
              "      <th>GDP_per_capita</th>\n",
              "      <th>Country_Albania</th>\n",
              "      <th>Country_Algeria</th>\n",
              "      <th>Country_Andorra</th>\n",
              "      <th>Country_Angola</th>\n",
              "      <th>Country_Anguilla</th>\n",
              "      <th>...</th>\n",
              "      <th>Country_Venezuela</th>\n",
              "      <th>Country_Vietnam</th>\n",
              "      <th>Country_Yemen</th>\n",
              "      <th>Country_Zambia</th>\n",
              "      <th>Country_Zimbabwe</th>\n",
              "      <th>Continent_Asia</th>\n",
              "      <th>Continent_Europe</th>\n",
              "      <th>Continent_North America</th>\n",
              "      <th>Continent_Oceania</th>\n",
              "      <th>Continent_South America</th>\n",
              "    </tr>\n",
              "  </thead>\n",
              "  <tbody>\n",
              "    <tr>\n",
              "      <th>0</th>\n",
              "      <td>840</td>\n",
              "      <td>339996</td>\n",
              "      <td>26695150000000</td>\n",
              "      <td>18624475000000</td>\n",
              "      <td>78515</td>\n",
              "      <td>0</td>\n",
              "      <td>0</td>\n",
              "      <td>0</td>\n",
              "      <td>0</td>\n",
              "      <td>0</td>\n",
              "      <td>...</td>\n",
              "      <td>0</td>\n",
              "      <td>0</td>\n",
              "      <td>0</td>\n",
              "      <td>0</td>\n",
              "      <td>0</td>\n",
              "      <td>0</td>\n",
              "      <td>0</td>\n",
              "      <td>1</td>\n",
              "      <td>0</td>\n",
              "      <td>0</td>\n",
              "    </tr>\n",
              "    <tr>\n",
              "      <th>1</th>\n",
              "      <td>156</td>\n",
              "      <td>1425671</td>\n",
              "      <td>21865482000000</td>\n",
              "      <td>11218281029298</td>\n",
              "      <td>15336</td>\n",
              "      <td>0</td>\n",
              "      <td>0</td>\n",
              "      <td>0</td>\n",
              "      <td>0</td>\n",
              "      <td>0</td>\n",
              "      <td>...</td>\n",
              "      <td>0</td>\n",
              "      <td>0</td>\n",
              "      <td>0</td>\n",
              "      <td>0</td>\n",
              "      <td>0</td>\n",
              "      <td>1</td>\n",
              "      <td>0</td>\n",
              "      <td>0</td>\n",
              "      <td>0</td>\n",
              "      <td>0</td>\n",
              "    </tr>\n",
              "    <tr>\n",
              "      <th>2</th>\n",
              "      <td>392</td>\n",
              "      <td>123294</td>\n",
              "      <td>5291351000000</td>\n",
              "      <td>4936211827875</td>\n",
              "      <td>42916</td>\n",
              "      <td>0</td>\n",
              "      <td>0</td>\n",
              "      <td>0</td>\n",
              "      <td>0</td>\n",
              "      <td>0</td>\n",
              "      <td>...</td>\n",
              "      <td>0</td>\n",
              "      <td>0</td>\n",
              "      <td>0</td>\n",
              "      <td>0</td>\n",
              "      <td>0</td>\n",
              "      <td>1</td>\n",
              "      <td>0</td>\n",
              "      <td>0</td>\n",
              "      <td>0</td>\n",
              "      <td>0</td>\n",
              "    </tr>\n",
              "    <tr>\n",
              "      <th>3</th>\n",
              "      <td>276</td>\n",
              "      <td>83294</td>\n",
              "      <td>4564778000000</td>\n",
              "      <td>3477796274497</td>\n",
              "      <td>54802</td>\n",
              "      <td>0</td>\n",
              "      <td>0</td>\n",
              "      <td>0</td>\n",
              "      <td>0</td>\n",
              "      <td>0</td>\n",
              "      <td>...</td>\n",
              "      <td>0</td>\n",
              "      <td>0</td>\n",
              "      <td>0</td>\n",
              "      <td>0</td>\n",
              "      <td>0</td>\n",
              "      <td>0</td>\n",
              "      <td>1</td>\n",
              "      <td>0</td>\n",
              "      <td>0</td>\n",
              "      <td>0</td>\n",
              "    </tr>\n",
              "    <tr>\n",
              "      <th>4</th>\n",
              "      <td>356</td>\n",
              "      <td>1428627</td>\n",
              "      <td>3893670000000</td>\n",
              "      <td>2259642382872</td>\n",
              "      <td>2725</td>\n",
              "      <td>0</td>\n",
              "      <td>0</td>\n",
              "      <td>0</td>\n",
              "      <td>0</td>\n",
              "      <td>0</td>\n",
              "      <td>...</td>\n",
              "      <td>0</td>\n",
              "      <td>0</td>\n",
              "      <td>0</td>\n",
              "      <td>0</td>\n",
              "      <td>0</td>\n",
              "      <td>1</td>\n",
              "      <td>0</td>\n",
              "      <td>0</td>\n",
              "      <td>0</td>\n",
              "      <td>0</td>\n",
              "    </tr>\n",
              "  </tbody>\n",
              "</table>\n",
              "<p>5 rows × 221 columns</p>\n",
              "</div>\n",
              "      <button class=\"colab-df-convert\" onclick=\"convertToInteractive('df-63fbccb6-9825-4a4a-8e71-2a6eeafa29e7')\"\n",
              "              title=\"Convert this dataframe to an interactive table.\"\n",
              "              style=\"display:none;\">\n",
              "        \n",
              "  <svg xmlns=\"http://www.w3.org/2000/svg\" height=\"24px\"viewBox=\"0 0 24 24\"\n",
              "       width=\"24px\">\n",
              "    <path d=\"M0 0h24v24H0V0z\" fill=\"none\"/>\n",
              "    <path d=\"M18.56 5.44l.94 2.06.94-2.06 2.06-.94-2.06-.94-.94-2.06-.94 2.06-2.06.94zm-11 1L8.5 8.5l.94-2.06 2.06-.94-2.06-.94L8.5 2.5l-.94 2.06-2.06.94zm10 10l.94 2.06.94-2.06 2.06-.94-2.06-.94-.94-2.06-.94 2.06-2.06.94z\"/><path d=\"M17.41 7.96l-1.37-1.37c-.4-.4-.92-.59-1.43-.59-.52 0-1.04.2-1.43.59L10.3 9.45l-7.72 7.72c-.78.78-.78 2.05 0 2.83L4 21.41c.39.39.9.59 1.41.59.51 0 1.02-.2 1.41-.59l7.78-7.78 2.81-2.81c.8-.78.8-2.07 0-2.86zM5.41 20L4 18.59l7.72-7.72 1.47 1.35L5.41 20z\"/>\n",
              "  </svg>\n",
              "      </button>\n",
              "      \n",
              "  <style>\n",
              "    .colab-df-container {\n",
              "      display:flex;\n",
              "      flex-wrap:wrap;\n",
              "      gap: 12px;\n",
              "    }\n",
              "\n",
              "    .colab-df-convert {\n",
              "      background-color: #E8F0FE;\n",
              "      border: none;\n",
              "      border-radius: 50%;\n",
              "      cursor: pointer;\n",
              "      display: none;\n",
              "      fill: #1967D2;\n",
              "      height: 32px;\n",
              "      padding: 0 0 0 0;\n",
              "      width: 32px;\n",
              "    }\n",
              "\n",
              "    .colab-df-convert:hover {\n",
              "      background-color: #E2EBFA;\n",
              "      box-shadow: 0px 1px 2px rgba(60, 64, 67, 0.3), 0px 1px 3px 1px rgba(60, 64, 67, 0.15);\n",
              "      fill: #174EA6;\n",
              "    }\n",
              "\n",
              "    [theme=dark] .colab-df-convert {\n",
              "      background-color: #3B4455;\n",
              "      fill: #D2E3FC;\n",
              "    }\n",
              "\n",
              "    [theme=dark] .colab-df-convert:hover {\n",
              "      background-color: #434B5C;\n",
              "      box-shadow: 0px 1px 3px 1px rgba(0, 0, 0, 0.15);\n",
              "      filter: drop-shadow(0px 1px 2px rgba(0, 0, 0, 0.3));\n",
              "      fill: #FFFFFF;\n",
              "    }\n",
              "  </style>\n",
              "\n",
              "      <script>\n",
              "        const buttonEl =\n",
              "          document.querySelector('#df-63fbccb6-9825-4a4a-8e71-2a6eeafa29e7 button.colab-df-convert');\n",
              "        buttonEl.style.display =\n",
              "          google.colab.kernel.accessAllowed ? 'block' : 'none';\n",
              "\n",
              "        async function convertToInteractive(key) {\n",
              "          const element = document.querySelector('#df-63fbccb6-9825-4a4a-8e71-2a6eeafa29e7');\n",
              "          const dataTable =\n",
              "            await google.colab.kernel.invokeFunction('convertToInteractive',\n",
              "                                                     [key], {});\n",
              "          if (!dataTable) return;\n",
              "\n",
              "          const docLinkHtml = 'Like what you see? Visit the ' +\n",
              "            '<a target=\"_blank\" href=https://colab.research.google.com/notebooks/data_table.ipynb>data table notebook</a>'\n",
              "            + ' to learn more about interactive tables.';\n",
              "          element.innerHTML = '';\n",
              "          dataTable['output_type'] = 'display_data';\n",
              "          await google.colab.output.renderOutput(dataTable, element);\n",
              "          const docLink = document.createElement('div');\n",
              "          docLink.innerHTML = docLinkHtml;\n",
              "          element.appendChild(docLink);\n",
              "        }\n",
              "      </script>\n",
              "    </div>\n",
              "  </div>\n",
              "  "
            ]
          },
          "metadata": {},
          "execution_count": 77
        }
      ]
    },
    {
      "cell_type": "code",
      "source": [
        "#checking new columns aftre creating dummies column\n",
        "d2.columns\n"
      ],
      "metadata": {
        "id": "YRXt5LoFE-yv",
        "colab": {
          "base_uri": "https://localhost:8080/"
        },
        "outputId": "a71926b0-7938-4bd1-aa49-2e75676d66ce"
      },
      "execution_count": null,
      "outputs": [
        {
          "output_type": "execute_result",
          "data": {
            "text/plain": [
              "Index(['ID', 'Country', 'Continent', 'Population', 'IMF_GDP', 'UN_GDP',\n",
              "       'GDP_per_capita', 'Country_Albania', 'Country_Algeria',\n",
              "       'Country_Andorra',\n",
              "       ...\n",
              "       'Country_Venezuela', 'Country_Vietnam', 'Country_Yemen',\n",
              "       'Country_Zambia', 'Country_Zimbabwe', 'Continent_Asia',\n",
              "       'Continent_Europe', 'Continent_North America', 'Continent_Oceania',\n",
              "       'Continent_South America'],\n",
              "      dtype='object', length=223)"
            ]
          },
          "metadata": {},
          "execution_count": 78
        }
      ]
    },
    {
      "cell_type": "markdown",
      "source": [
        "# Model fitting"
      ],
      "metadata": {
        "id": "hxmpKk72FxH6"
      }
    },
    {
      "cell_type": "code",
      "source": [
        "#model fitting\n",
        "x = d.drop('GDP_per_capita',axis=1)\n",
        "y = d['GDP_per_capita']"
      ],
      "metadata": {
        "id": "Zp11NQYrHcSv"
      },
      "execution_count": null,
      "outputs": []
    },
    {
      "cell_type": "code",
      "source": [
        "#input\n",
        "x.head(2)"
      ],
      "metadata": {
        "colab": {
          "base_uri": "https://localhost:8080/",
          "height": 223
        },
        "id": "akyn6WXxHryZ",
        "outputId": "5c78535d-115e-49de-e21e-e50e9ec502cd"
      },
      "execution_count": null,
      "outputs": [
        {
          "output_type": "execute_result",
          "data": {
            "text/plain": [
              "    ID  Population         IMF_GDP          UN_GDP  Country_Albania  \\\n",
              "0  840      339996  26695150000000  18624475000000                0   \n",
              "1  156     1425671  21865482000000  11218281029298                0   \n",
              "\n",
              "   Country_Algeria  Country_Andorra  Country_Angola  Country_Anguilla  \\\n",
              "0                0                0               0                 0   \n",
              "1                0                0               0                 0   \n",
              "\n",
              "   Country_Antigua and Barbuda  ...  Country_Venezuela  Country_Vietnam  \\\n",
              "0                            0  ...                  0                0   \n",
              "1                            0  ...                  0                0   \n",
              "\n",
              "   Country_Yemen  Country_Zambia  Country_Zimbabwe  Continent_Asia  \\\n",
              "0              0               0                 0               0   \n",
              "1              0               0                 0               1   \n",
              "\n",
              "   Continent_Europe  Continent_North America  Continent_Oceania  \\\n",
              "0                 0                        1                  0   \n",
              "1                 0                        0                  0   \n",
              "\n",
              "   Continent_South America  \n",
              "0                        0  \n",
              "1                        0  \n",
              "\n",
              "[2 rows x 220 columns]"
            ],
            "text/html": [
              "\n",
              "  <div id=\"df-9b6d5026-d80e-463e-8a80-cd16c9b98a0f\">\n",
              "    <div class=\"colab-df-container\">\n",
              "      <div>\n",
              "<style scoped>\n",
              "    .dataframe tbody tr th:only-of-type {\n",
              "        vertical-align: middle;\n",
              "    }\n",
              "\n",
              "    .dataframe tbody tr th {\n",
              "        vertical-align: top;\n",
              "    }\n",
              "\n",
              "    .dataframe thead th {\n",
              "        text-align: right;\n",
              "    }\n",
              "</style>\n",
              "<table border=\"1\" class=\"dataframe\">\n",
              "  <thead>\n",
              "    <tr style=\"text-align: right;\">\n",
              "      <th></th>\n",
              "      <th>ID</th>\n",
              "      <th>Population</th>\n",
              "      <th>IMF_GDP</th>\n",
              "      <th>UN_GDP</th>\n",
              "      <th>Country_Albania</th>\n",
              "      <th>Country_Algeria</th>\n",
              "      <th>Country_Andorra</th>\n",
              "      <th>Country_Angola</th>\n",
              "      <th>Country_Anguilla</th>\n",
              "      <th>Country_Antigua and Barbuda</th>\n",
              "      <th>...</th>\n",
              "      <th>Country_Venezuela</th>\n",
              "      <th>Country_Vietnam</th>\n",
              "      <th>Country_Yemen</th>\n",
              "      <th>Country_Zambia</th>\n",
              "      <th>Country_Zimbabwe</th>\n",
              "      <th>Continent_Asia</th>\n",
              "      <th>Continent_Europe</th>\n",
              "      <th>Continent_North America</th>\n",
              "      <th>Continent_Oceania</th>\n",
              "      <th>Continent_South America</th>\n",
              "    </tr>\n",
              "  </thead>\n",
              "  <tbody>\n",
              "    <tr>\n",
              "      <th>0</th>\n",
              "      <td>840</td>\n",
              "      <td>339996</td>\n",
              "      <td>26695150000000</td>\n",
              "      <td>18624475000000</td>\n",
              "      <td>0</td>\n",
              "      <td>0</td>\n",
              "      <td>0</td>\n",
              "      <td>0</td>\n",
              "      <td>0</td>\n",
              "      <td>0</td>\n",
              "      <td>...</td>\n",
              "      <td>0</td>\n",
              "      <td>0</td>\n",
              "      <td>0</td>\n",
              "      <td>0</td>\n",
              "      <td>0</td>\n",
              "      <td>0</td>\n",
              "      <td>0</td>\n",
              "      <td>1</td>\n",
              "      <td>0</td>\n",
              "      <td>0</td>\n",
              "    </tr>\n",
              "    <tr>\n",
              "      <th>1</th>\n",
              "      <td>156</td>\n",
              "      <td>1425671</td>\n",
              "      <td>21865482000000</td>\n",
              "      <td>11218281029298</td>\n",
              "      <td>0</td>\n",
              "      <td>0</td>\n",
              "      <td>0</td>\n",
              "      <td>0</td>\n",
              "      <td>0</td>\n",
              "      <td>0</td>\n",
              "      <td>...</td>\n",
              "      <td>0</td>\n",
              "      <td>0</td>\n",
              "      <td>0</td>\n",
              "      <td>0</td>\n",
              "      <td>0</td>\n",
              "      <td>1</td>\n",
              "      <td>0</td>\n",
              "      <td>0</td>\n",
              "      <td>0</td>\n",
              "      <td>0</td>\n",
              "    </tr>\n",
              "  </tbody>\n",
              "</table>\n",
              "<p>2 rows × 220 columns</p>\n",
              "</div>\n",
              "      <button class=\"colab-df-convert\" onclick=\"convertToInteractive('df-9b6d5026-d80e-463e-8a80-cd16c9b98a0f')\"\n",
              "              title=\"Convert this dataframe to an interactive table.\"\n",
              "              style=\"display:none;\">\n",
              "        \n",
              "  <svg xmlns=\"http://www.w3.org/2000/svg\" height=\"24px\"viewBox=\"0 0 24 24\"\n",
              "       width=\"24px\">\n",
              "    <path d=\"M0 0h24v24H0V0z\" fill=\"none\"/>\n",
              "    <path d=\"M18.56 5.44l.94 2.06.94-2.06 2.06-.94-2.06-.94-.94-2.06-.94 2.06-2.06.94zm-11 1L8.5 8.5l.94-2.06 2.06-.94-2.06-.94L8.5 2.5l-.94 2.06-2.06.94zm10 10l.94 2.06.94-2.06 2.06-.94-2.06-.94-.94-2.06-.94 2.06-2.06.94z\"/><path d=\"M17.41 7.96l-1.37-1.37c-.4-.4-.92-.59-1.43-.59-.52 0-1.04.2-1.43.59L10.3 9.45l-7.72 7.72c-.78.78-.78 2.05 0 2.83L4 21.41c.39.39.9.59 1.41.59.51 0 1.02-.2 1.41-.59l7.78-7.78 2.81-2.81c.8-.78.8-2.07 0-2.86zM5.41 20L4 18.59l7.72-7.72 1.47 1.35L5.41 20z\"/>\n",
              "  </svg>\n",
              "      </button>\n",
              "      \n",
              "  <style>\n",
              "    .colab-df-container {\n",
              "      display:flex;\n",
              "      flex-wrap:wrap;\n",
              "      gap: 12px;\n",
              "    }\n",
              "\n",
              "    .colab-df-convert {\n",
              "      background-color: #E8F0FE;\n",
              "      border: none;\n",
              "      border-radius: 50%;\n",
              "      cursor: pointer;\n",
              "      display: none;\n",
              "      fill: #1967D2;\n",
              "      height: 32px;\n",
              "      padding: 0 0 0 0;\n",
              "      width: 32px;\n",
              "    }\n",
              "\n",
              "    .colab-df-convert:hover {\n",
              "      background-color: #E2EBFA;\n",
              "      box-shadow: 0px 1px 2px rgba(60, 64, 67, 0.3), 0px 1px 3px 1px rgba(60, 64, 67, 0.15);\n",
              "      fill: #174EA6;\n",
              "    }\n",
              "\n",
              "    [theme=dark] .colab-df-convert {\n",
              "      background-color: #3B4455;\n",
              "      fill: #D2E3FC;\n",
              "    }\n",
              "\n",
              "    [theme=dark] .colab-df-convert:hover {\n",
              "      background-color: #434B5C;\n",
              "      box-shadow: 0px 1px 3px 1px rgba(0, 0, 0, 0.15);\n",
              "      filter: drop-shadow(0px 1px 2px rgba(0, 0, 0, 0.3));\n",
              "      fill: #FFFFFF;\n",
              "    }\n",
              "  </style>\n",
              "\n",
              "      <script>\n",
              "        const buttonEl =\n",
              "          document.querySelector('#df-9b6d5026-d80e-463e-8a80-cd16c9b98a0f button.colab-df-convert');\n",
              "        buttonEl.style.display =\n",
              "          google.colab.kernel.accessAllowed ? 'block' : 'none';\n",
              "\n",
              "        async function convertToInteractive(key) {\n",
              "          const element = document.querySelector('#df-9b6d5026-d80e-463e-8a80-cd16c9b98a0f');\n",
              "          const dataTable =\n",
              "            await google.colab.kernel.invokeFunction('convertToInteractive',\n",
              "                                                     [key], {});\n",
              "          if (!dataTable) return;\n",
              "\n",
              "          const docLinkHtml = 'Like what you see? Visit the ' +\n",
              "            '<a target=\"_blank\" href=https://colab.research.google.com/notebooks/data_table.ipynb>data table notebook</a>'\n",
              "            + ' to learn more about interactive tables.';\n",
              "          element.innerHTML = '';\n",
              "          dataTable['output_type'] = 'display_data';\n",
              "          await google.colab.output.renderOutput(dataTable, element);\n",
              "          const docLink = document.createElement('div');\n",
              "          docLink.innerHTML = docLinkHtml;\n",
              "          element.appendChild(docLink);\n",
              "        }\n",
              "      </script>\n",
              "    </div>\n",
              "  </div>\n",
              "  "
            ]
          },
          "metadata": {},
          "execution_count": 80
        }
      ]
    },
    {
      "cell_type": "code",
      "source": [
        "#out put\n",
        "y.head(2)"
      ],
      "metadata": {
        "colab": {
          "base_uri": "https://localhost:8080/"
        },
        "id": "koezv0umHzWS",
        "outputId": "09185dd7-7d93-4854-80c2-d1463fa229d9"
      },
      "execution_count": null,
      "outputs": [
        {
          "output_type": "execute_result",
          "data": {
            "text/plain": [
              "0    78515\n",
              "1    15336\n",
              "Name: GDP_per_capita, dtype: int64"
            ]
          },
          "metadata": {},
          "execution_count": 81
        }
      ]
    },
    {
      "cell_type": "markdown",
      "source": [
        "# Data splitting for trining and testing"
      ],
      "metadata": {
        "id": "h1SXLTSAH7s3"
      }
    },
    {
      "cell_type": "code",
      "source": [
        "#data splitting for training and testing\n",
        "from sklearn.model_selection import train_test_split\n",
        "x_train,x_test,y_train,y_test = train_test_split(x,y,test_size = 0.20,random_state = 0)"
      ],
      "metadata": {
        "id": "hbi0zKawIHeD"
      },
      "execution_count": null,
      "outputs": []
    },
    {
      "cell_type": "markdown",
      "source": [
        "#***Linear Regression model***"
      ],
      "metadata": {
        "id": "krTBL-nk4IbG"
      }
    },
    {
      "cell_type": "code",
      "source": [
        "# Import the sklearn necessary libraries\n",
        "\n",
        "from sklearn.linear_model import LinearRegression\n",
        "# Create a linear regression model\n",
        "\n",
        "model1 = LinearRegression()\n",
        "# Fit the model to the training data\n",
        "\n",
        "model1.fit(x_train,y_train)\n",
        "# Predict the prices on the test data\n",
        "\n",
        "y_pred = model1.predict(x_test)"
      ],
      "metadata": {
        "id": "QZOz9NJfIY5-"
      },
      "execution_count": null,
      "outputs": []
    },
    {
      "cell_type": "code",
      "source": [
        "from sklearn.metrics import mean_absolute_error,mean_squared_error,r2_score\n",
        "training_score_1 = model1.score(x_train,y_train)\n",
        "training_score_1"
      ],
      "metadata": {
        "id": "HQFQaYvVwO41",
        "colab": {
          "base_uri": "https://localhost:8080/"
        },
        "outputId": "efafc4e5-7226-4957-a319-762e76d6b84c"
      },
      "execution_count": null,
      "outputs": [
        {
          "output_type": "execute_result",
          "data": {
            "text/plain": [
              "0.9999999680109324"
            ]
          },
          "metadata": {},
          "execution_count": 84
        }
      ]
    },
    {
      "cell_type": "code",
      "source": [
        "testing_score_1 = model1.score(x_test,y_test)\n",
        "testing_score_1"
      ],
      "metadata": {
        "id": "y9Fvi8RBwlB1",
        "colab": {
          "base_uri": "https://localhost:8080/"
        },
        "outputId": "d94968a0-69f6-4b07-c5a9-b9000b52e196"
      },
      "execution_count": null,
      "outputs": [
        {
          "output_type": "execute_result",
          "data": {
            "text/plain": [
              "0.2346524772668429"
            ]
          },
          "metadata": {},
          "execution_count": 85
        }
      ]
    },
    {
      "cell_type": "code",
      "source": [
        "#calculating errors and r2 score\n",
        "mae_1 = mean_absolute_error(y_test,y_pred)\n",
        "rmse_1 = np.sqrt(mean_squared_error(y_test,y_pred))\n",
        "r2_1 = r2_score(y_test,y_pred)\n",
        "\n",
        "print(\"mean_absolute_error:\",round(mae_1,3))\n",
        "print(\"root_mean_squared_error:\",round(rmse_1,3))\n",
        "print(\"r2_score:\",round(r2_1,3))"
      ],
      "metadata": {
        "id": "U0Wyc0F7xWp8",
        "colab": {
          "base_uri": "https://localhost:8080/"
        },
        "outputId": "e4bc73f9-5bc4-482d-c7c4-97d0d2ee7150"
      },
      "execution_count": null,
      "outputs": [
        {
          "output_type": "stream",
          "name": "stdout",
          "text": [
            "mean_absolute_error: 14748.019\n",
            "root_mean_squared_error: 26790.879\n",
            "r2_score: 0.235\n"
          ]
        }
      ]
    },
    {
      "cell_type": "markdown",
      "source": [
        "#***Decision Tree Model***\n",
        "\n",
        "\n",
        "* Decision tree is a tree like predictive model used for regression and classification probelms.it is tree like structure.\n"
      ],
      "metadata": {
        "id": "MCoUS9NFnR5n"
      }
    },
    {
      "cell_type": "code",
      "source": [
        "from sklearn.tree import DecisionTreeRegressor\n",
        "\n",
        "# assigning decision tree regressor to dt_model\n",
        "\n",
        "dt_model = DecisionTreeRegressor()\n",
        "\n",
        "#fitting decision tree model\n",
        "\n",
        "dt_model.fit(x_train,y_train)\n",
        "\n",
        "#predicting the rsult using test data\n",
        "\n",
        "y_pred = dt_model.predict(x_test)"
      ],
      "metadata": {
        "id": "dM2fwOPsyPUw"
      },
      "execution_count": null,
      "outputs": []
    },
    {
      "cell_type": "code",
      "source": [
        "training_score_2 = dt_model.score(x_train,y_train)\n",
        "training_score_2"
      ],
      "metadata": {
        "id": "sWNWKotoyaT7",
        "colab": {
          "base_uri": "https://localhost:8080/"
        },
        "outputId": "34d4de27-d7fd-4079-9fe0-83c2bfa03ff8"
      },
      "execution_count": null,
      "outputs": [
        {
          "output_type": "execute_result",
          "data": {
            "text/plain": [
              "1.0"
            ]
          },
          "metadata": {},
          "execution_count": 88
        }
      ]
    },
    {
      "cell_type": "code",
      "source": [
        "testing_score_2 = dt_model.score(x_test,y_test)\n",
        "testing_score_2"
      ],
      "metadata": {
        "id": "sbW8R6zJyr6f",
        "colab": {
          "base_uri": "https://localhost:8080/"
        },
        "outputId": "1d687aa9-9c6b-4b31-b663-14c8f3429fc0"
      },
      "execution_count": null,
      "outputs": [
        {
          "output_type": "execute_result",
          "data": {
            "text/plain": [
              "0.4955618417039528"
            ]
          },
          "metadata": {},
          "execution_count": 89
        }
      ]
    },
    {
      "cell_type": "code",
      "source": [
        "#calculating errors and r2 score\n",
        "mae_2 = mean_absolute_error(y_test,y_pred)\n",
        "rmse_2 = np.sqrt(mean_squared_error(y_test,y_pred))\n",
        "r2_2 = r2_score(y_test,y_pred)\n",
        "print(\"mean_absolute_error:\",round(mae_2,3))\n",
        "print(\"root_mean_squared_error:\",round(rmse_2,3))\n",
        "print(\"r2_score:\",round(r2_2,3))"
      ],
      "metadata": {
        "id": "O8m2XFBiy4Nk",
        "colab": {
          "base_uri": "https://localhost:8080/"
        },
        "outputId": "8de1d71b-faaa-42fa-99a5-60a980536e6a"
      },
      "execution_count": null,
      "outputs": [
        {
          "output_type": "stream",
          "name": "stdout",
          "text": [
            "mean_absolute_error: 8424.233\n",
            "root_mean_squared_error: 21750.116\n",
            "r2_score: 0.496\n"
          ]
        }
      ]
    },
    {
      "cell_type": "code",
      "source": [
        "#plotting the desion tree using matplotlib\n",
        "\n",
        "from sklearn import tree\n",
        "import matplotlib.pyplot as plt\n",
        "\n",
        "plt.figure(figsize=(15,15))\n",
        "tree.plot_tree(dt_model);"
      ],
      "metadata": {
        "id": "Zu1Mol76zDTF",
        "colab": {
          "base_uri": "https://localhost:8080/",
          "height": 659
        },
        "outputId": "37d02cb5-ab08-4601-8fec-e5b4f8108ab6"
      },
      "execution_count": null,
      "outputs": [
        {
          "output_type": "display_data",
          "data": {
            "text/plain": [
              "<Figure size 1500x1500 with 1 Axes>"
            ],
            "image/png": "[encoded data removed]"
          },
          "metadata": {}
        }
      ]
    },
    {
      "cell_type": "markdown",
      "source": [
        "#***Random Forest Regressor***\n",
        "\n",
        "Random Forest Regression is a supervised learning algorithm that uses ensemble learning method for regression. Ensemble learning method is a technique that combines predictions from multiple machine learning algorithms to make a more accurate prediction than a single model.\n",
        "\n"
      ],
      "metadata": {
        "id": "WfeTVrauqjnV"
      }
    },
    {
      "cell_type": "code",
      "source": [
        "from sklearn.ensemble import RandomForestRegressor\n",
        "\n",
        "\n",
        "rf_model = RandomForestRegressor()\n",
        "\n",
        "# fitiing model to the data\n",
        "\n",
        "rf_model.fit(x_train,y_train)\n",
        "\n",
        "#predicting the result using the test data\n",
        "\n",
        "y_pred = rf_model.predict(x_test)"
      ],
      "metadata": {
        "id": "KoFftWAmzoVW"
      },
      "execution_count": null,
      "outputs": []
    },
    {
      "cell_type": "code",
      "source": [
        "training_score_3 = rf_model.score(x_train,y_train)\n",
        "training_score_3"
      ],
      "metadata": {
        "id": "OAWt-ANTzvJd",
        "colab": {
          "base_uri": "https://localhost:8080/"
        },
        "outputId": "1b25aa17-bff2-45a4-cc02-e73517d7bf20"
      },
      "execution_count": null,
      "outputs": [
        {
          "output_type": "execute_result",
          "data": {
            "text/plain": [
              "0.9451926125839896"
            ]
          },
          "metadata": {},
          "execution_count": 93
        }
      ]
    },
    {
      "cell_type": "code",
      "source": [
        "testing_score_3 = rf_model.score(x_test,y_test)\n",
        "testing_score_3"
      ],
      "metadata": {
        "id": "Db8qiR1X0YH1",
        "colab": {
          "base_uri": "https://localhost:8080/"
        },
        "outputId": "6eb5fbda-de15-4ad9-fd74-a90dad13551b"
      },
      "execution_count": null,
      "outputs": [
        {
          "output_type": "execute_result",
          "data": {
            "text/plain": [
              "0.39771190831585224"
            ]
          },
          "metadata": {},
          "execution_count": 94
        }
      ]
    },
    {
      "cell_type": "code",
      "source": [
        "#calculating errors and r2 score\n",
        "mae_3 = mean_absolute_error(y_test,y_pred)\n",
        "rmse_3 = np.sqrt(mean_squared_error(y_test,y_pred))\n",
        "r2_3 = r2_score(y_test,y_pred)\n",
        "\n",
        "print(\"mean_absolute_error:\",round(mae_3,3))\n",
        "print(\"root_mean_squared_error:\",round(rmse_3,3))\n",
        "print(\"r2_score:\",round(r2_3,3))"
      ],
      "metadata": {
        "id": "mv9F6q5oz2se",
        "colab": {
          "base_uri": "https://localhost:8080/"
        },
        "outputId": "e4acacdb-0f5c-4f51-e410-53c1e46fecdb"
      },
      "execution_count": null,
      "outputs": [
        {
          "output_type": "stream",
          "name": "stdout",
          "text": [
            "mean_absolute_error: 8760.401\n",
            "root_mean_squared_error: 23766.201\n",
            "r2_score: 0.398\n"
          ]
        }
      ]
    },
    {
      "cell_type": "markdown",
      "source": [
        "#***K Nearest Neighbour model***\n",
        "\n",
        "* he target is predicted by local interpolation of the targets associated of the nearest neighbors in the training set."
      ],
      "metadata": {
        "id": "IKMiRi4irk4Y"
      }
    },
    {
      "cell_type": "code",
      "source": [
        "from sklearn.neighbors import KNeighborsRegressor\n",
        "\n",
        "knn_model = KNeighborsRegressor()\n",
        "\n",
        "# fitting the model\n",
        "\n",
        "knn_model.fit(x_train,y_train)\n",
        "\n",
        "# predicting using test data\n",
        "\n",
        "y_pred = knn_model.predict(x_test)"
      ],
      "metadata": {
        "id": "M_f5hQ2O0Nbd"
      },
      "execution_count": null,
      "outputs": []
    },
    {
      "cell_type": "code",
      "source": [
        "training_score_4 = knn_model.score(x_train,y_train)\n",
        "training_score_4"
      ],
      "metadata": {
        "id": "hSFHra9W0lzv"
      },
      "execution_count": null,
      "outputs": []
    },
    {
      "cell_type": "code",
      "source": [
        "testing_score_4 = knn_model.score(x_test,y_test)\n",
        "testing_score_4"
      ],
      "metadata": {
        "id": "iXg09U120v5C"
      },
      "execution_count": null,
      "outputs": []
    },
    {
      "cell_type": "code",
      "source": [
        "#calculating errors and r2 score\n",
        "mae_4 = mean_absolute_error(y_test,y_pred)\n",
        "rmse_4 = np.sqrt(mean_squared_error(y_test,y_pred))\n",
        "r2_4 = r2_score(y_test,y_pred)\n",
        "\n",
        "print(\"mean_absolute_error:\",round(mae_4,3))\n",
        "print(\"root_mean_squared_error:\",round(rmse_4,3))\n",
        "print(\"r2_score:\",round(r2_4,3))"
      ],
      "metadata": {
        "id": "HH_UPFQQ00DM"
      },
      "execution_count": null,
      "outputs": []
    },
    {
      "cell_type": "markdown",
      "source": [
        "# ADA boost Regressor"
      ],
      "metadata": {
        "id": "IJy4Dx0ogmRq"
      }
    },
    {
      "cell_type": "code",
      "source": [
        "from sklearn.ensemble import AdaBoostRegressor\n",
        "\n",
        "ab_model = AdaBoostRegressor()\n",
        "#model fitting\n",
        "ab_model.fit(x_train,y_train)\n",
        "#predicting model\n",
        "y_pred = ab_model.predict(x_test)"
      ],
      "metadata": {
        "id": "wqwX7NGhgMN7"
      },
      "execution_count": null,
      "outputs": []
    },
    {
      "cell_type": "code",
      "source": [
        "training_score_6 = ab_model.score(x_train,y_train)\n",
        "training_score_6"
      ],
      "metadata": {
        "id": "KVLVuohs16wt"
      },
      "execution_count": null,
      "outputs": []
    },
    {
      "cell_type": "code",
      "source": [
        "testing_score_6 = ab_model.score(x_train,y_train)\n",
        "testing_score_6"
      ],
      "metadata": {
        "id": "uEiy-Fea17wt"
      },
      "execution_count": null,
      "outputs": []
    },
    {
      "cell_type": "code",
      "source": [
        "#calculating errors and r2 score\n",
        "mae_6 = mean_absolute_error(y_test,y_pred)\n",
        "rmse_6 = np.sqrt(mean_squared_error(y_test,y_pred))\n",
        "r2_6 = r2_score(y_test,y_pred)\n",
        "\n",
        "print(\"mean_absolute_error:\",round(mae_6,3))\n",
        "print(\"root_mean_squared_error:\",round(rmse_6,3))\n",
        "print(\"r2_score:\",round(r2_6,3))"
      ],
      "metadata": {
        "id": "aYGb-tXd2Lkl"
      },
      "execution_count": null,
      "outputs": []
    },
    {
      "cell_type": "markdown",
      "source": [
        "# Comparing the models"
      ],
      "metadata": {
        "id": "OcUe_McIfuFX"
      }
    },
    {
      "cell_type": "code",
      "source": [
        "cm = pd.DataFrame({'model_names':['Linear_Regression','DEcision_Tree','Random_Forest','KNearest_Neighbour','SVM','Ada_boost'],'mean_absolute_error':[mae_1,mae_2,mae_3,mae_4,mae_5,mae_6],'root_mean_squared':[rmse_1,rmse_2,rmse_3,rmse_4,rmse_5,rmse_6],'r2_score':[r2_1,r2_2,r2_3,r2_4,r2_5,r2_6],'training_score':[training_score_1,training_score_2,training_score_3,training_score_4,training_score_5,training_score_6],'testing_score':[testing_score_1,testing_score_2,testing_score_3,testing_score_4,testing_score_5,testing_score_6]})\n",
        "cm"
      ],
      "metadata": {
        "id": "AdYrb_uq2iDj"
      },
      "execution_count": null,
      "outputs": []
    }
  ],
  "metadata": {
    "colab": {
      "provenance": [],
      "mount_file_id": "1UG2yJQNeFYttjgTnkUThqwWuak3gqFT5",
      "authorship_tag": "ABX9TyMFP9A8SfpqeuYzQ0tvG7IO",
      "include_colab_link": true
    },
    "kernelspec": {
      "display_name": "Python 3",
      "name": "python3"
    },
    "language_info": {
      "name": "python"
    }
  },
  "nbformat": 4,
  "nbformat_minor": 0
}